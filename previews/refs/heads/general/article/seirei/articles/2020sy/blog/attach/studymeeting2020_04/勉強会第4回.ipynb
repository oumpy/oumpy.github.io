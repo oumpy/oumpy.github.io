{
  "nbformat": 4,
  "nbformat_minor": 0,
  "metadata": {
    "kernelspec": {
      "display_name": "Python 3",
      "language": "python",
      "name": "python3"
    },
    "language_info": {
      "codemirror_mode": {
        "name": "ipython",
        "version": 3
      },
      "file_extension": ".py",
      "mimetype": "text/x-python",
      "name": "python",
      "nbconvert_exporter": "python",
      "pygments_lexer": "ipython3",
      "version": "3.6.8"
    },
    "colab": {
      "name": "第４回勉強会.ipynb",
      "provenance": []
    }
  },
  "cells": [
    {
      "cell_type": "markdown",
      "metadata": {
        "id": "AH3Y1lvYJt1v",
        "colab_type": "text"
      },
      "source": [
        "# 目次\n",
        "- defによる関数の定義\n",
        "- Numpy ～アレイを使ってみる～\n",
        "- Pandasによるデータ解析の基礎と、その可視化\n",
        "- 演習問題"
      ]
    },
    {
      "cell_type": "markdown",
      "metadata": {
        "id": "h9NgLYNnJt1w",
        "colab_type": "text"
      },
      "source": [
        "## defによる関数の定義"
      ]
    },
    {
      "cell_type": "markdown",
      "metadata": {
        "id": "JgS8D4U7Jt1x",
        "colab_type": "text"
      },
      "source": [
        "血液検査による、糸球体ろ過量の推定値（eGFR）の計算式は次のとおりである。\n",
        "\n",
        "$$\n",
        "男性：eGFR=194 \\times Cr^{-1.094} \\times 年齢^{-0.287} \\\\\n",
        "女性：eGFR=194 \\times Cr^{-1.094} \\times 年齢^{-0.287} \\times 0.739\n",
        "$$\n",
        "\n",
        "では、「40歳の男性でCr=1.3」「55歳の女性でCr=1.8」のeGFRをどう計算するだろうか。\n",
        "\n",
        "もちろんまともに計算しても良いが、人数が増えると非常に面倒である。"
      ]
    },
    {
      "cell_type": "code",
      "metadata": {
        "id": "3gif3Cm_Jt1y",
        "colab_type": "code",
        "colab": {},
        "outputId": "cccdd004-d23e-428e-a1ff-558513a6137d"
      },
      "source": [
        "194 * (1.3 ** (-1.094)) * (40 ** (-0.287))"
      ],
      "execution_count": 0,
      "outputs": [
        {
          "output_type": "execute_result",
          "data": {
            "text/plain": [
              "50.50757123075893"
            ]
          },
          "metadata": {
            "tags": []
          },
          "execution_count": 1
        }
      ]
    },
    {
      "cell_type": "code",
      "metadata": {
        "id": "ESzcl0JaJt14",
        "colab_type": "code",
        "colab": {},
        "outputId": "46f56bfd-a088-4a7b-bb59-96266a90689d"
      },
      "source": [
        "194 * (1.8 ** (-1.094)) * (55 ** (-0.287)) * 0.739"
      ],
      "execution_count": 0,
      "outputs": [
        {
          "output_type": "execute_result",
          "data": {
            "text/plain": [
              "23.861292025228842"
            ]
          },
          "metadata": {
            "tags": []
          },
          "execution_count": 2
        }
      ]
    },
    {
      "cell_type": "markdown",
      "metadata": {
        "id": "rZGAlsBxJt19",
        "colab_type": "text"
      },
      "source": [
        "そこで、関数を定義する。"
      ]
    },
    {
      "cell_type": "code",
      "metadata": {
        "id": "o9nfiEu_Jt1-",
        "colab_type": "code",
        "colab": {}
      },
      "source": [
        "def eGFR(sex, Cr, age):\n",
        "    if sex=='male':\n",
        "        return 194 * (Cr ** (-1.094)) * (age ** (-0.287))\n",
        "    else :\n",
        "        return 194 * (Cr ** (-1.094)) * (age ** (-0.287)) * 0.739"
      ],
      "execution_count": 0,
      "outputs": []
    },
    {
      "cell_type": "code",
      "metadata": {
        "id": "U78b2nbKJt2C",
        "colab_type": "code",
        "colab": {},
        "outputId": "049d25ac-7416-48eb-a372-0673d9db2b53"
      },
      "source": [
        "eGFR('male', 1.3, 40)"
      ],
      "execution_count": 0,
      "outputs": [
        {
          "output_type": "execute_result",
          "data": {
            "text/plain": [
              "50.50757123075893"
            ]
          },
          "metadata": {
            "tags": []
          },
          "execution_count": 4
        }
      ]
    },
    {
      "cell_type": "code",
      "metadata": {
        "id": "Vw3iqXDrJt2F",
        "colab_type": "code",
        "colab": {},
        "outputId": "93f0c3dd-3e90-4c60-c8a2-4d973b79faa5"
      },
      "source": [
        "eGFR('female', 1.8, 55)"
      ],
      "execution_count": 0,
      "outputs": [
        {
          "output_type": "execute_result",
          "data": {
            "text/plain": [
              "23.861292025228842"
            ]
          },
          "metadata": {
            "tags": []
          },
          "execution_count": 5
        }
      ]
    },
    {
      "cell_type": "markdown",
      "metadata": {
        "id": "jLoRIo0aJt2J",
        "colab_type": "text"
      },
      "source": [
        "## Numpy～アレイを使ってみる～"
      ]
    },
    {
      "cell_type": "code",
      "metadata": {
        "id": "RWw0cgV5Jt2K",
        "colab_type": "code",
        "colab": {}
      },
      "source": [
        "import numpy as np\n",
        "import matplotlib.pyplot as plt"
      ],
      "execution_count": 0,
      "outputs": []
    },
    {
      "cell_type": "code",
      "metadata": {
        "id": "HS5F-xiWJt2Q",
        "colab_type": "code",
        "colab": {}
      },
      "source": [
        "array1=np.array([1,2,3,4])"
      ],
      "execution_count": 0,
      "outputs": []
    },
    {
      "cell_type": "code",
      "metadata": {
        "id": "KaBtkHyxJt2V",
        "colab_type": "code",
        "colab": {},
        "outputId": "e1e2fa73-5c8e-4dc0-b74c-3f0e55eb4939"
      },
      "source": [
        "array1"
      ],
      "execution_count": 0,
      "outputs": [
        {
          "output_type": "execute_result",
          "data": {
            "text/plain": [
              "array([1, 2, 3, 4])"
            ]
          },
          "metadata": {
            "tags": []
          },
          "execution_count": 8
        }
      ]
    },
    {
      "cell_type": "code",
      "metadata": {
        "id": "9rJBDQ7iJt2e",
        "colab_type": "code",
        "colab": {}
      },
      "source": [
        "#比較のため、リストも作ってみる。\n",
        "list1=[1,2,3,4]"
      ],
      "execution_count": 0,
      "outputs": []
    },
    {
      "cell_type": "code",
      "metadata": {
        "id": "iQA5dE8aJt2h",
        "colab_type": "code",
        "colab": {}
      },
      "source": [
        "#pythonのリストから、アレイに変換することもできる。\n",
        "#まず、リストを作る\n",
        "list2=[10,20,30,40]"
      ],
      "execution_count": 0,
      "outputs": []
    },
    {
      "cell_type": "code",
      "metadata": {
        "id": "t20ya9ZlJt2k",
        "colab_type": "code",
        "colab": {}
      },
      "source": [
        "#アレイに変換。\n",
        "array2=np.array(list2)"
      ],
      "execution_count": 0,
      "outputs": []
    },
    {
      "cell_type": "code",
      "metadata": {
        "id": "JaBhVMfzJt2o",
        "colab_type": "code",
        "colab": {},
        "outputId": "8afbcc7b-4172-41d3-e4e3-72baaabbbc0c"
      },
      "source": [
        "array2"
      ],
      "execution_count": 0,
      "outputs": [
        {
          "output_type": "execute_result",
          "data": {
            "text/plain": [
              "array([10, 20, 30, 40])"
            ]
          },
          "metadata": {
            "tags": []
          },
          "execution_count": 12
        }
      ]
    },
    {
      "cell_type": "code",
      "metadata": {
        "id": "qpGETqMaJt2s",
        "colab_type": "code",
        "colab": {},
        "outputId": "edfcf9b7-ea8d-40d8-e37d-b72884a60ece"
      },
      "source": [
        "#アレイでは、各要素の計算が容易である。\n",
        "array1+array2, array1*array2, array1/array2"
      ],
      "execution_count": 0,
      "outputs": [
        {
          "output_type": "execute_result",
          "data": {
            "text/plain": [
              "(array([11, 22, 33, 44]),\n",
              " array([ 10,  40,  90, 160]),\n",
              " array([0.1, 0.1, 0.1, 0.1]))"
            ]
          },
          "metadata": {
            "tags": []
          },
          "execution_count": 13
        }
      ]
    },
    {
      "cell_type": "code",
      "metadata": {
        "id": "_InwCgZjJt2w",
        "colab_type": "code",
        "colab": {},
        "outputId": "45156ef3-8803-4510-d972-4c6d19786c0a"
      },
      "source": [
        "#リストだと、演算はできない。\n",
        "list1+list2"
      ],
      "execution_count": 0,
      "outputs": [
        {
          "output_type": "execute_result",
          "data": {
            "text/plain": [
              "[1, 2, 3, 4, 10, 20, 30, 40]"
            ]
          },
          "metadata": {
            "tags": []
          },
          "execution_count": 14
        }
      ]
    },
    {
      "cell_type": "code",
      "metadata": {
        "id": "yfP12CyvJt2z",
        "colab_type": "code",
        "colab": {}
      },
      "source": [
        "#いろいろなアレイを作ってみよう\n",
        "\n",
        "array3=np.arange(0,100,5)\n",
        "array4=np.linspace(0,100,5)\n",
        "array5=array3.reshape(2,-1)\n",
        "array6=array5.T\n",
        "\n",
        "array7=np.zeros((5,5))\n",
        "array8=np.ones((5,5))"
      ],
      "execution_count": 0,
      "outputs": []
    },
    {
      "cell_type": "code",
      "metadata": {
        "id": "YmEJcMeHJt23",
        "colab_type": "code",
        "colab": {},
        "outputId": "cb26587b-8410-476c-d42c-4fc12ba93b21"
      },
      "source": [
        "array4"
      ],
      "execution_count": 0,
      "outputs": [
        {
          "output_type": "execute_result",
          "data": {
            "text/plain": [
              "array([  0.,  25.,  50.,  75., 100.])"
            ]
          },
          "metadata": {
            "tags": []
          },
          "execution_count": 16
        }
      ]
    },
    {
      "cell_type": "code",
      "metadata": {
        "id": "F92D_QhUJt26",
        "colab_type": "code",
        "colab": {},
        "outputId": "80d637c6-6db5-42cf-83c5-bc3218c4a8e9"
      },
      "source": [
        "array5"
      ],
      "execution_count": 0,
      "outputs": [
        {
          "output_type": "execute_result",
          "data": {
            "text/plain": [
              "array([[ 0,  5, 10, 15, 20, 25, 30, 35, 40, 45],\n",
              "       [50, 55, 60, 65, 70, 75, 80, 85, 90, 95]])"
            ]
          },
          "metadata": {
            "tags": []
          },
          "execution_count": 17
        }
      ]
    },
    {
      "cell_type": "markdown",
      "metadata": {
        "id": "un6MNaIfJt2-",
        "colab_type": "text"
      },
      "source": [
        "## 練習問題\n",
        "(1)　下のような、1000*1000のアレイを2つ作ってください。それぞれのアレイにはarray_1, array_2という名前にしてください。\n",
        "$$\n",
        "\\boldsymbol{array_1}=\n",
        "    \\left[\\begin{array}{ccc}\n",
        "    -5.00 & -4.99 & \\cdots & 4.98 & 4.99\\\\\n",
        "    -5.00 & -4.99 & \\cdots & 4.98 & 4.99\\\\\n",
        "    \\vdots  && \\ddots && \\vdots \\\\\n",
        "    -5.00 & -4.99 & \\cdots & 4.98 & 4.99\\\\\n",
        "    -5.00 & -4.99 & \\cdots & 4.98 & 4.99\\\\\n",
        "    \\end{array}\\right],\n",
        "\\boldsymbol{array_2}=\n",
        "    \\left[\\begin{array}{ccc}\n",
        "    -5.00 & -5.00 & \\cdots & -5.00 & -5.00\\\\\n",
        "    -4.99 & -4.99 & \\cdots & -4.99 & -4.99\\\\\n",
        "    \\vdots  && \\ddots && \\vdots \\\\\n",
        "    4.98 & 4.98 & \\cdots & 4.98 & 4.98\\\\\n",
        "    4.99 & 4.99 & \\cdots & 4.99 & 4.99\\\\\n",
        "    \\end{array}\\right]\n",
        "$$\n",
        "\n",
        "(2)　array_1とarray_2の各要素を足したアレイを作って、array_3という名前をつけてください。\n",
        "\n",
        "(3)　array_1とarray_2の各要素をかけたアレイを作って、array_4という名前をつけてください。\n",
        "\n",
        "(4)　array_1, array_2の各要素にsinをとって、その２つを足したアレイを作って、array_5という名前をつけてください。\n",
        "\n",
        "(5)　array_1~array_5を可視化してみましょう。"
      ]
    },
    {
      "cell_type": "markdown",
      "metadata": {
        "id": "Hav3qH2qJt2_",
        "colab_type": "text"
      },
      "source": [
        "## 答え"
      ]
    },
    {
      "cell_type": "code",
      "metadata": {
        "id": "lMBTiFFMJt3A",
        "colab_type": "code",
        "colab": {}
      },
      "source": [
        "qq=np.arange(-5,5,0.01)\n",
        "qqq=np.arange(-5,5,0.01)\n",
        "for k in range(999):\n",
        "    qq=np.append(qq,qqq)"
      ],
      "execution_count": 0,
      "outputs": []
    },
    {
      "cell_type": "code",
      "metadata": {
        "id": "gFUzevJNJt3D",
        "colab_type": "code",
        "colab": {},
        "outputId": "be3a3ac3-702d-44a2-e26f-014b6bd7af5c"
      },
      "source": [
        "np.shape(qq)"
      ],
      "execution_count": 0,
      "outputs": [
        {
          "output_type": "execute_result",
          "data": {
            "text/plain": [
              "(1000000,)"
            ]
          },
          "metadata": {
            "tags": []
          },
          "execution_count": 19
        }
      ]
    },
    {
      "cell_type": "code",
      "metadata": {
        "id": "qKyc7LJ1Jt3G",
        "colab_type": "code",
        "colab": {},
        "outputId": "086e629f-55be-4976-a388-f343d8bc7bf0"
      },
      "source": [
        "array_1=qq.reshape(1000,1000)\n",
        "array_1"
      ],
      "execution_count": 0,
      "outputs": [
        {
          "output_type": "execute_result",
          "data": {
            "text/plain": [
              "array([[-5.  , -4.99, -4.98, ...,  4.97,  4.98,  4.99],\n",
              "       [-5.  , -4.99, -4.98, ...,  4.97,  4.98,  4.99],\n",
              "       [-5.  , -4.99, -4.98, ...,  4.97,  4.98,  4.99],\n",
              "       ...,\n",
              "       [-5.  , -4.99, -4.98, ...,  4.97,  4.98,  4.99],\n",
              "       [-5.  , -4.99, -4.98, ...,  4.97,  4.98,  4.99],\n",
              "       [-5.  , -4.99, -4.98, ...,  4.97,  4.98,  4.99]])"
            ]
          },
          "metadata": {
            "tags": []
          },
          "execution_count": 20
        }
      ]
    },
    {
      "cell_type": "code",
      "metadata": {
        "id": "vMbgI949Jt3J",
        "colab_type": "code",
        "colab": {},
        "outputId": "fc2af294-1934-4de3-8043-22853d6082a9"
      },
      "source": [
        "array_2=array_1.T\n",
        "array_2"
      ],
      "execution_count": 0,
      "outputs": [
        {
          "output_type": "execute_result",
          "data": {
            "text/plain": [
              "array([[-5.  , -5.  , -5.  , ..., -5.  , -5.  , -5.  ],\n",
              "       [-4.99, -4.99, -4.99, ..., -4.99, -4.99, -4.99],\n",
              "       [-4.98, -4.98, -4.98, ..., -4.98, -4.98, -4.98],\n",
              "       ...,\n",
              "       [ 4.97,  4.97,  4.97, ...,  4.97,  4.97,  4.97],\n",
              "       [ 4.98,  4.98,  4.98, ...,  4.98,  4.98,  4.98],\n",
              "       [ 4.99,  4.99,  4.99, ...,  4.99,  4.99,  4.99]])"
            ]
          },
          "metadata": {
            "tags": []
          },
          "execution_count": 21
        }
      ]
    },
    {
      "cell_type": "code",
      "metadata": {
        "id": "WnNPf78KJt3O",
        "colab_type": "code",
        "colab": {},
        "outputId": "39387079-1d3b-4cbc-eaf0-b71d69a33aeb"
      },
      "source": [
        "array_3=array_1+array_2\n",
        "array_3"
      ],
      "execution_count": 0,
      "outputs": [
        {
          "output_type": "execute_result",
          "data": {
            "text/plain": [
              "array([[-1.00000000e+01, -9.99000000e+00, -9.98000000e+00, ...,\n",
              "        -3.00000000e-02, -2.00000000e-02, -1.00000000e-02],\n",
              "       [-9.99000000e+00, -9.98000000e+00, -9.97000000e+00, ...,\n",
              "        -2.00000000e-02, -1.00000000e-02, -2.13162821e-13],\n",
              "       [-9.98000000e+00, -9.97000000e+00, -9.96000000e+00, ...,\n",
              "        -1.00000000e-02, -2.13162821e-13,  1.00000000e-02],\n",
              "       ...,\n",
              "       [-3.00000000e-02, -2.00000000e-02, -1.00000000e-02, ...,\n",
              "         9.94000000e+00,  9.95000000e+00,  9.96000000e+00],\n",
              "       [-2.00000000e-02, -1.00000000e-02, -2.13162821e-13, ...,\n",
              "         9.95000000e+00,  9.96000000e+00,  9.97000000e+00],\n",
              "       [-1.00000000e-02, -2.13162821e-13,  1.00000000e-02, ...,\n",
              "         9.96000000e+00,  9.97000000e+00,  9.98000000e+00]])"
            ]
          },
          "metadata": {
            "tags": []
          },
          "execution_count": 22
        }
      ]
    },
    {
      "cell_type": "code",
      "metadata": {
        "id": "oEWyt6ihJt3R",
        "colab_type": "code",
        "colab": {},
        "outputId": "b13e5ec9-49af-4f4c-e208-ecf356e557c8"
      },
      "source": [
        "array_4=array_1*array_2\n",
        "array_4"
      ],
      "execution_count": 0,
      "outputs": [
        {
          "output_type": "execute_result",
          "data": {
            "text/plain": [
              "array([[ 25.    ,  24.95  ,  24.9   , ..., -24.85  , -24.9   , -24.95  ],\n",
              "       [ 24.95  ,  24.9001,  24.8502, ..., -24.8003, -24.8502, -24.9001],\n",
              "       [ 24.9   ,  24.8502,  24.8004, ..., -24.7506, -24.8004, -24.8502],\n",
              "       ...,\n",
              "       [-24.85  , -24.8003, -24.7506, ...,  24.7009,  24.7506,  24.8003],\n",
              "       [-24.9   , -24.8502, -24.8004, ...,  24.7506,  24.8004,  24.8502],\n",
              "       [-24.95  , -24.9001, -24.8502, ...,  24.8003,  24.8502,  24.9001]])"
            ]
          },
          "metadata": {
            "tags": []
          },
          "execution_count": 23
        }
      ]
    },
    {
      "cell_type": "code",
      "metadata": {
        "id": "48Da16Z9Jt3X",
        "colab_type": "code",
        "colab": {},
        "outputId": "18e266fb-847c-4ca7-bcbf-bcc0b96eb99a"
      },
      "source": [
        "array_5=np.sin(array_1)+np.sin(array_2)\n",
        "array_5"
      ],
      "execution_count": 0,
      "outputs": [
        {
          "output_type": "execute_result",
          "data": {
            "text/plain": [
              "array([[ 1.91784855e+00,  1.92063718e+00,  1.92332964e+00, ...,\n",
              "        -8.07710558e-03, -5.48108704e-03, -2.78862876e-03],\n",
              "       [ 1.92063718e+00,  1.92342581e+00,  1.92611827e+00, ...,\n",
              "        -5.28847682e-03, -2.69245827e-03, -5.85087534e-14],\n",
              "       [ 1.92332964e+00,  1.92611827e+00,  1.92881072e+00, ...,\n",
              "        -2.59601854e-03, -5.63993297e-14,  2.69245827e-03],\n",
              "       ...,\n",
              "       [-8.07710558e-03, -5.28847682e-03, -2.59601854e-03, ...,\n",
              "        -1.93400276e+00, -1.93140674e+00, -1.92871428e+00],\n",
              "       [-5.48108704e-03, -2.69245827e-03, -5.63993297e-14, ...,\n",
              "        -1.93140674e+00, -1.92881072e+00, -1.92611827e+00],\n",
              "       [-2.78862876e-03, -5.85087534e-14,  2.69245827e-03, ...,\n",
              "        -1.92871428e+00, -1.92611827e+00, -1.92342581e+00]])"
            ]
          },
          "metadata": {
            "tags": []
          },
          "execution_count": 24
        }
      ]
    },
    {
      "cell_type": "code",
      "metadata": {
        "id": "Z79y6aB4Jt3b",
        "colab_type": "code",
        "colab": {},
        "outputId": "571b54ca-7d84-4351-9b94-59c88df4a4fe"
      },
      "source": [
        "plt.imshow(array_1)"
      ],
      "execution_count": 0,
      "outputs": [
        {
          "output_type": "execute_result",
          "data": {
            "text/plain": [
              "<matplotlib.image.AxesImage at 0x7f2952595c50>"
            ]
          },
          "metadata": {
            "tags": []
          },
          "execution_count": 25
        },
        {
          "output_type": "display_data",
          "data": {
            "image/png": "[encoded data removed]",
            "text/plain": [
              "<Figure size 432x288 with 1 Axes>"
            ]
          },
          "metadata": {
            "tags": [],
            "needs_background": "light"
          }
        }
      ]
    },
    {
      "cell_type": "code",
      "metadata": {
        "id": "H4RMCxUjJt3i",
        "colab_type": "code",
        "colab": {},
        "outputId": "1123a229-f0a6-4473-9dab-2c007c777261"
      },
      "source": [
        "plt.imshow(array_2)"
      ],
      "execution_count": 0,
      "outputs": [
        {
          "output_type": "execute_result",
          "data": {
            "text/plain": [
              "<matplotlib.image.AxesImage at 0x7f291fff60b8>"
            ]
          },
          "metadata": {
            "tags": []
          },
          "execution_count": 26
        },
        {
          "output_type": "display_data",
          "data": {
            "image/png": "[encoded data removed]",
            "text/plain": [
              "<Figure size 432x288 with 1 Axes>"
            ]
          },
          "metadata": {
            "tags": [],
            "needs_background": "light"
          }
        }
      ]
    },
    {
      "cell_type": "code",
      "metadata": {
        "id": "aO8hKYxMJt3l",
        "colab_type": "code",
        "colab": {},
        "outputId": "442dafde-4939-47f7-a284-70121f339848"
      },
      "source": [
        "plt.imshow(array_3)"
      ],
      "execution_count": 0,
      "outputs": [
        {
          "output_type": "execute_result",
          "data": {
            "text/plain": [
              "<matplotlib.image.AxesImage at 0x7f291ffccfd0>"
            ]
          },
          "metadata": {
            "tags": []
          },
          "execution_count": 27
        },
        {
          "output_type": "display_data",
          "data": {
            "image/png": "[encoded data removed]",
            "text/plain": [
              "<Figure size 432x288 with 1 Axes>"
            ]
          },
          "metadata": {
            "tags": [],
            "needs_background": "light"
          }
        }
      ]
    },
    {
      "cell_type": "code",
      "metadata": {
        "id": "uo4PqGeyJt3n",
        "colab_type": "code",
        "colab": {},
        "outputId": "1bf216fb-a6c0-4148-bb0c-528de9a5ab62"
      },
      "source": [
        "plt.imshow(array_4)"
      ],
      "execution_count": 0,
      "outputs": [
        {
          "output_type": "execute_result",
          "data": {
            "text/plain": [
              "<matplotlib.image.AxesImage at 0x7f291ff35c18>"
            ]
          },
          "metadata": {
            "tags": []
          },
          "execution_count": 28
        },
        {
          "output_type": "display_data",
          "data": {
            "image/png": "[encoded data removed]",
            "text/plain": [
              "<Figure size 432x288 with 1 Axes>"
            ]
          },
          "metadata": {
            "tags": [],
            "needs_background": "light"
          }
        }
      ]
    },
    {
      "cell_type": "code",
      "metadata": {
        "id": "5gWwfT2XJt3q",
        "colab_type": "code",
        "colab": {},
        "outputId": "41a18447-b1d4-4616-8aed-fbc46005c4d5"
      },
      "source": [
        "plt.imshow(array_5)"
      ],
      "execution_count": 0,
      "outputs": [
        {
          "output_type": "execute_result",
          "data": {
            "text/plain": [
              "<matplotlib.image.AxesImage at 0x7f291ff0d6a0>"
            ]
          },
          "metadata": {
            "tags": []
          },
          "execution_count": 29
        },
        {
          "output_type": "display_data",
          "data": {
            "image/png": "[encoded data removed]",
            "text/plain": [
              "<Figure size 432x288 with 1 Axes>"
            ]
          },
          "metadata": {
            "tags": [],
            "needs_background": "light"
          }
        }
      ]
    },
    {
      "cell_type": "markdown",
      "metadata": {
        "id": "qmBVCK0MJt3w",
        "colab_type": "text"
      },
      "source": [
        "## pandasによるデータ解析の基礎と、その可視化"
      ]
    },
    {
      "cell_type": "markdown",
      "metadata": {
        "id": "jwzVX5jZJt3x",
        "colab_type": "text"
      },
      "source": [
        "### Series型"
      ]
    },
    {
      "cell_type": "code",
      "metadata": {
        "id": "v2oypVymJt3y",
        "colab_type": "code",
        "colab": {}
      },
      "source": [
        "import pandas as pd\n",
        "import seaborn as sns"
      ],
      "execution_count": 0,
      "outputs": []
    },
    {
      "cell_type": "code",
      "metadata": {
        "id": "AdgVjD8gJt31",
        "colab_type": "code",
        "colab": {},
        "outputId": "6d1e0982-49f1-4b23-e35e-78566ae6a74d"
      },
      "source": [
        "#pandasが扱うデータ型には、Series型とDateframe型がある。\n",
        "#Series型\n",
        "ww2_cas = pd.Series([8700000,4300000,3000000,2100000,400000],index=['USSR','Germany','China','Japan','USA'])\n",
        "ww2_cas"
      ],
      "execution_count": 0,
      "outputs": [
        {
          "output_type": "execute_result",
          "data": {
            "text/plain": [
              "USSR       8700000\n",
              "Germany    4300000\n",
              "China      3000000\n",
              "Japan      2100000\n",
              "USA         400000\n",
              "dtype: int64"
            ]
          },
          "metadata": {
            "tags": []
          },
          "execution_count": 31
        }
      ]
    },
    {
      "cell_type": "code",
      "metadata": {
        "id": "J5Cmr4KMJt35",
        "colab_type": "code",
        "colab": {},
        "outputId": "de1e7467-1d32-46bd-e565-e103ff4db45b"
      },
      "source": [
        "ww2_cas>4000000"
      ],
      "execution_count": 0,
      "outputs": [
        {
          "output_type": "execute_result",
          "data": {
            "text/plain": [
              "USSR        True\n",
              "Germany     True\n",
              "China      False\n",
              "Japan      False\n",
              "USA        False\n",
              "dtype: bool"
            ]
          },
          "metadata": {
            "tags": []
          },
          "execution_count": 32
        }
      ]
    },
    {
      "cell_type": "code",
      "metadata": {
        "id": "-6PvPeYAJt37",
        "colab_type": "code",
        "colab": {},
        "outputId": "272f442a-053d-495e-83e2-579a01069aa1"
      },
      "source": [
        "#400万人以上犠牲者を出した国は？\n",
        "ww2_cas[ww2_cas>4000000]"
      ],
      "execution_count": 0,
      "outputs": [
        {
          "output_type": "execute_result",
          "data": {
            "text/plain": [
              "USSR       8700000\n",
              "Germany    4300000\n",
              "dtype: int64"
            ]
          },
          "metadata": {
            "tags": []
          },
          "execution_count": 33
        }
      ]
    },
    {
      "cell_type": "markdown",
      "metadata": {
        "id": "O3R2UDAnJt3-",
        "colab_type": "text"
      },
      "source": [
        "### DataFrame型"
      ]
    },
    {
      "cell_type": "code",
      "metadata": {
        "id": "cZg6p7IqJt3_",
        "colab_type": "code",
        "colab": {},
        "outputId": "2e20f486-b18f-4a06-a2fd-0e9e58ed3f65"
      },
      "source": [
        "# DataFrameの練習として、20人が5科目の試験を受けた時の結果を適当に作ってみる\n",
        "dataset=np.random.rand(100).reshape(20,5)\n",
        "dataset=dataset*100\n",
        "dataset=np.round(dataset)\n",
        "dataset"
      ],
      "execution_count": 0,
      "outputs": [
        {
          "output_type": "execute_result",
          "data": {
            "text/plain": [
              "array([[ 28.,  44.,   7.,  42.,  47.],\n",
              "       [ 76.,  45.,  67.,  43.,  90.],\n",
              "       [ 58.,  68.,  98.,  83.,  81.],\n",
              "       [ 96.,  11.,  67.,  93., 100.],\n",
              "       [ 38.,  24.,  35.,   5.,  23.],\n",
              "       [ 97.,  89.,  45.,  35.,  15.],\n",
              "       [ 48.,  76.,  94.,  14.,   0.],\n",
              "       [ 55.,  62.,  24.,  65.,  30.],\n",
              "       [ 12.,  59.,  96.,  34.,  29.],\n",
              "       [ 28.,  77.,  56.,   8.,   0.],\n",
              "       [ 79.,  64.,  16.,  59.,  40.],\n",
              "       [  7.,  61.,  43.,  80.,  98.],\n",
              "       [ 20.,  35.,  92.,  13.,  33.],\n",
              "       [ 67.,  14.,  91.,  15.,  14.],\n",
              "       [ 37.,  23.,   2.,  20.,   2.],\n",
              "       [ 52.,  63.,  46.,  12.,  46.],\n",
              "       [  1.,  97.,  35.,  83.,  81.],\n",
              "       [  2.,   7.,  15.,  49.,   4.],\n",
              "       [ 76.,  52.,  60.,  54.,  99.],\n",
              "       [ 67.,  18.,  62.,   3.,  97.]])"
            ]
          },
          "metadata": {
            "tags": []
          },
          "execution_count": 34
        }
      ]
    },
    {
      "cell_type": "code",
      "metadata": {
        "id": "L4Q6Ks7lJt4E",
        "colab_type": "code",
        "colab": {},
        "outputId": "7c27636f-fada-4e89-ae99-10dde614757d"
      },
      "source": [
        "students=['A','B','C','D','E','F','G','H','I','J','K','L','M','N','O','P','Q','R','S','T']\n",
        "subjects=['English','Math','Physics','Chemistry','History']\n",
        "Dataset=pd.DataFrame(dataset,index=students,columns=subjects)\n",
        "Dataset"
      ],
      "execution_count": 0,
      "outputs": [
        {
          "output_type": "execute_result",
          "data": {
            "text/html": [
              "<div>\n",
              "<style scoped>\n",
              "    .dataframe tbody tr th:only-of-type {\n",
              "        vertical-align: middle;\n",
              "    }\n",
              "\n",
              "    .dataframe tbody tr th {\n",
              "        vertical-align: top;\n",
              "    }\n",
              "\n",
              "    .dataframe thead th {\n",
              "        text-align: right;\n",
              "    }\n",
              "</style>\n",
              "<table border=\"1\" class=\"dataframe\">\n",
              "  <thead>\n",
              "    <tr style=\"text-align: right;\">\n",
              "      <th></th>\n",
              "      <th>English</th>\n",
              "      <th>Math</th>\n",
              "      <th>Physics</th>\n",
              "      <th>Chemistry</th>\n",
              "      <th>History</th>\n",
              "    </tr>\n",
              "  </thead>\n",
              "  <tbody>\n",
              "    <tr>\n",
              "      <td>A</td>\n",
              "      <td>28.0</td>\n",
              "      <td>44.0</td>\n",
              "      <td>7.0</td>\n",
              "      <td>42.0</td>\n",
              "      <td>47.0</td>\n",
              "    </tr>\n",
              "    <tr>\n",
              "      <td>B</td>\n",
              "      <td>76.0</td>\n",
              "      <td>45.0</td>\n",
              "      <td>67.0</td>\n",
              "      <td>43.0</td>\n",
              "      <td>90.0</td>\n",
              "    </tr>\n",
              "    <tr>\n",
              "      <td>C</td>\n",
              "      <td>58.0</td>\n",
              "      <td>68.0</td>\n",
              "      <td>98.0</td>\n",
              "      <td>83.0</td>\n",
              "      <td>81.0</td>\n",
              "    </tr>\n",
              "    <tr>\n",
              "      <td>D</td>\n",
              "      <td>96.0</td>\n",
              "      <td>11.0</td>\n",
              "      <td>67.0</td>\n",
              "      <td>93.0</td>\n",
              "      <td>100.0</td>\n",
              "    </tr>\n",
              "    <tr>\n",
              "      <td>E</td>\n",
              "      <td>38.0</td>\n",
              "      <td>24.0</td>\n",
              "      <td>35.0</td>\n",
              "      <td>5.0</td>\n",
              "      <td>23.0</td>\n",
              "    </tr>\n",
              "    <tr>\n",
              "      <td>F</td>\n",
              "      <td>97.0</td>\n",
              "      <td>89.0</td>\n",
              "      <td>45.0</td>\n",
              "      <td>35.0</td>\n",
              "      <td>15.0</td>\n",
              "    </tr>\n",
              "    <tr>\n",
              "      <td>G</td>\n",
              "      <td>48.0</td>\n",
              "      <td>76.0</td>\n",
              "      <td>94.0</td>\n",
              "      <td>14.0</td>\n",
              "      <td>0.0</td>\n",
              "    </tr>\n",
              "    <tr>\n",
              "      <td>H</td>\n",
              "      <td>55.0</td>\n",
              "      <td>62.0</td>\n",
              "      <td>24.0</td>\n",
              "      <td>65.0</td>\n",
              "      <td>30.0</td>\n",
              "    </tr>\n",
              "    <tr>\n",
              "      <td>I</td>\n",
              "      <td>12.0</td>\n",
              "      <td>59.0</td>\n",
              "      <td>96.0</td>\n",
              "      <td>34.0</td>\n",
              "      <td>29.0</td>\n",
              "    </tr>\n",
              "    <tr>\n",
              "      <td>J</td>\n",
              "      <td>28.0</td>\n",
              "      <td>77.0</td>\n",
              "      <td>56.0</td>\n",
              "      <td>8.0</td>\n",
              "      <td>0.0</td>\n",
              "    </tr>\n",
              "    <tr>\n",
              "      <td>K</td>\n",
              "      <td>79.0</td>\n",
              "      <td>64.0</td>\n",
              "      <td>16.0</td>\n",
              "      <td>59.0</td>\n",
              "      <td>40.0</td>\n",
              "    </tr>\n",
              "    <tr>\n",
              "      <td>L</td>\n",
              "      <td>7.0</td>\n",
              "      <td>61.0</td>\n",
              "      <td>43.0</td>\n",
              "      <td>80.0</td>\n",
              "      <td>98.0</td>\n",
              "    </tr>\n",
              "    <tr>\n",
              "      <td>M</td>\n",
              "      <td>20.0</td>\n",
              "      <td>35.0</td>\n",
              "      <td>92.0</td>\n",
              "      <td>13.0</td>\n",
              "      <td>33.0</td>\n",
              "    </tr>\n",
              "    <tr>\n",
              "      <td>N</td>\n",
              "      <td>67.0</td>\n",
              "      <td>14.0</td>\n",
              "      <td>91.0</td>\n",
              "      <td>15.0</td>\n",
              "      <td>14.0</td>\n",
              "    </tr>\n",
              "    <tr>\n",
              "      <td>O</td>\n",
              "      <td>37.0</td>\n",
              "      <td>23.0</td>\n",
              "      <td>2.0</td>\n",
              "      <td>20.0</td>\n",
              "      <td>2.0</td>\n",
              "    </tr>\n",
              "    <tr>\n",
              "      <td>P</td>\n",
              "      <td>52.0</td>\n",
              "      <td>63.0</td>\n",
              "      <td>46.0</td>\n",
              "      <td>12.0</td>\n",
              "      <td>46.0</td>\n",
              "    </tr>\n",
              "    <tr>\n",
              "      <td>Q</td>\n",
              "      <td>1.0</td>\n",
              "      <td>97.0</td>\n",
              "      <td>35.0</td>\n",
              "      <td>83.0</td>\n",
              "      <td>81.0</td>\n",
              "    </tr>\n",
              "    <tr>\n",
              "      <td>R</td>\n",
              "      <td>2.0</td>\n",
              "      <td>7.0</td>\n",
              "      <td>15.0</td>\n",
              "      <td>49.0</td>\n",
              "      <td>4.0</td>\n",
              "    </tr>\n",
              "    <tr>\n",
              "      <td>S</td>\n",
              "      <td>76.0</td>\n",
              "      <td>52.0</td>\n",
              "      <td>60.0</td>\n",
              "      <td>54.0</td>\n",
              "      <td>99.0</td>\n",
              "    </tr>\n",
              "    <tr>\n",
              "      <td>T</td>\n",
              "      <td>67.0</td>\n",
              "      <td>18.0</td>\n",
              "      <td>62.0</td>\n",
              "      <td>3.0</td>\n",
              "      <td>97.0</td>\n",
              "    </tr>\n",
              "  </tbody>\n",
              "</table>\n",
              "</div>"
            ],
            "text/plain": [
              "   English  Math  Physics  Chemistry  History\n",
              "A     28.0  44.0      7.0       42.0     47.0\n",
              "B     76.0  45.0     67.0       43.0     90.0\n",
              "C     58.0  68.0     98.0       83.0     81.0\n",
              "D     96.0  11.0     67.0       93.0    100.0\n",
              "E     38.0  24.0     35.0        5.0     23.0\n",
              "F     97.0  89.0     45.0       35.0     15.0\n",
              "G     48.0  76.0     94.0       14.0      0.0\n",
              "H     55.0  62.0     24.0       65.0     30.0\n",
              "I     12.0  59.0     96.0       34.0     29.0\n",
              "J     28.0  77.0     56.0        8.0      0.0\n",
              "K     79.0  64.0     16.0       59.0     40.0\n",
              "L      7.0  61.0     43.0       80.0     98.0\n",
              "M     20.0  35.0     92.0       13.0     33.0\n",
              "N     67.0  14.0     91.0       15.0     14.0\n",
              "O     37.0  23.0      2.0       20.0      2.0\n",
              "P     52.0  63.0     46.0       12.0     46.0\n",
              "Q      1.0  97.0     35.0       83.0     81.0\n",
              "R      2.0   7.0     15.0       49.0      4.0\n",
              "S     76.0  52.0     60.0       54.0     99.0\n",
              "T     67.0  18.0     62.0        3.0     97.0"
            ]
          },
          "metadata": {
            "tags": []
          },
          "execution_count": 35
        }
      ]
    },
    {
      "cell_type": "code",
      "metadata": {
        "id": "qFJttIdZJt4J",
        "colab_type": "code",
        "colab": {},
        "outputId": "69ab220b-109b-4876-efb7-86e7ee7b76c3"
      },
      "source": [
        "Dataset.info()"
      ],
      "execution_count": 0,
      "outputs": [
        {
          "output_type": "stream",
          "text": [
            "<class 'pandas.core.frame.DataFrame'>\n",
            "Index: 20 entries, A to T\n",
            "Data columns (total 5 columns):\n",
            "English      20 non-null float64\n",
            "Math         20 non-null float64\n",
            "Physics      20 non-null float64\n",
            "Chemistry    20 non-null float64\n",
            "History      20 non-null float64\n",
            "dtypes: float64(5)\n",
            "memory usage: 960.0+ bytes\n"
          ],
          "name": "stdout"
        }
      ]
    },
    {
      "cell_type": "code",
      "metadata": {
        "id": "nkxRZJQEJt4M",
        "colab_type": "code",
        "colab": {},
        "outputId": "a6177aa9-5942-4f67-b8ed-54106d6b8642"
      },
      "source": [
        "# 最初の５人だけのデータを見てみよう\n",
        "Dataset.head(5)"
      ],
      "execution_count": 0,
      "outputs": [
        {
          "output_type": "execute_result",
          "data": {
            "text/html": [
              "<div>\n",
              "<style scoped>\n",
              "    .dataframe tbody tr th:only-of-type {\n",
              "        vertical-align: middle;\n",
              "    }\n",
              "\n",
              "    .dataframe tbody tr th {\n",
              "        vertical-align: top;\n",
              "    }\n",
              "\n",
              "    .dataframe thead th {\n",
              "        text-align: right;\n",
              "    }\n",
              "</style>\n",
              "<table border=\"1\" class=\"dataframe\">\n",
              "  <thead>\n",
              "    <tr style=\"text-align: right;\">\n",
              "      <th></th>\n",
              "      <th>English</th>\n",
              "      <th>Math</th>\n",
              "      <th>Physics</th>\n",
              "      <th>Chemistry</th>\n",
              "      <th>History</th>\n",
              "    </tr>\n",
              "  </thead>\n",
              "  <tbody>\n",
              "    <tr>\n",
              "      <td>A</td>\n",
              "      <td>28.0</td>\n",
              "      <td>44.0</td>\n",
              "      <td>7.0</td>\n",
              "      <td>42.0</td>\n",
              "      <td>47.0</td>\n",
              "    </tr>\n",
              "    <tr>\n",
              "      <td>B</td>\n",
              "      <td>76.0</td>\n",
              "      <td>45.0</td>\n",
              "      <td>67.0</td>\n",
              "      <td>43.0</td>\n",
              "      <td>90.0</td>\n",
              "    </tr>\n",
              "    <tr>\n",
              "      <td>C</td>\n",
              "      <td>58.0</td>\n",
              "      <td>68.0</td>\n",
              "      <td>98.0</td>\n",
              "      <td>83.0</td>\n",
              "      <td>81.0</td>\n",
              "    </tr>\n",
              "    <tr>\n",
              "      <td>D</td>\n",
              "      <td>96.0</td>\n",
              "      <td>11.0</td>\n",
              "      <td>67.0</td>\n",
              "      <td>93.0</td>\n",
              "      <td>100.0</td>\n",
              "    </tr>\n",
              "    <tr>\n",
              "      <td>E</td>\n",
              "      <td>38.0</td>\n",
              "      <td>24.0</td>\n",
              "      <td>35.0</td>\n",
              "      <td>5.0</td>\n",
              "      <td>23.0</td>\n",
              "    </tr>\n",
              "  </tbody>\n",
              "</table>\n",
              "</div>"
            ],
            "text/plain": [
              "   English  Math  Physics  Chemistry  History\n",
              "A     28.0  44.0      7.0       42.0     47.0\n",
              "B     76.0  45.0     67.0       43.0     90.0\n",
              "C     58.0  68.0     98.0       83.0     81.0\n",
              "D     96.0  11.0     67.0       93.0    100.0\n",
              "E     38.0  24.0     35.0        5.0     23.0"
            ]
          },
          "metadata": {
            "tags": []
          },
          "execution_count": 37
        }
      ]
    },
    {
      "cell_type": "code",
      "metadata": {
        "id": "uEs6GjnbJt4P",
        "colab_type": "code",
        "colab": {},
        "outputId": "06b04967-3adc-41c7-baba-dac3bdd73a7b"
      },
      "source": [
        "# 英語の成績だけを取り出そう\n",
        "Dataset.English"
      ],
      "execution_count": 0,
      "outputs": [
        {
          "output_type": "execute_result",
          "data": {
            "text/plain": [
              "A    28.0\n",
              "B    76.0\n",
              "C    58.0\n",
              "D    96.0\n",
              "E    38.0\n",
              "F    97.0\n",
              "G    48.0\n",
              "H    55.0\n",
              "I    12.0\n",
              "J    28.0\n",
              "K    79.0\n",
              "L     7.0\n",
              "M    20.0\n",
              "N    67.0\n",
              "O    37.0\n",
              "P    52.0\n",
              "Q     1.0\n",
              "R     2.0\n",
              "S    76.0\n",
              "T    67.0\n",
              "Name: English, dtype: float64"
            ]
          },
          "metadata": {
            "tags": []
          },
          "execution_count": 38
        }
      ]
    },
    {
      "cell_type": "code",
      "metadata": {
        "id": "z5izBPVZJt4U",
        "colab_type": "code",
        "colab": {},
        "outputId": "d8e0bcfe-1d73-4892-f55f-36372aa8b27a"
      },
      "source": [
        "Dataset[['English','Chemistry']].head(5)"
      ],
      "execution_count": 0,
      "outputs": [
        {
          "output_type": "execute_result",
          "data": {
            "text/html": [
              "<div>\n",
              "<style scoped>\n",
              "    .dataframe tbody tr th:only-of-type {\n",
              "        vertical-align: middle;\n",
              "    }\n",
              "\n",
              "    .dataframe tbody tr th {\n",
              "        vertical-align: top;\n",
              "    }\n",
              "\n",
              "    .dataframe thead th {\n",
              "        text-align: right;\n",
              "    }\n",
              "</style>\n",
              "<table border=\"1\" class=\"dataframe\">\n",
              "  <thead>\n",
              "    <tr style=\"text-align: right;\">\n",
              "      <th></th>\n",
              "      <th>English</th>\n",
              "      <th>Chemistry</th>\n",
              "    </tr>\n",
              "  </thead>\n",
              "  <tbody>\n",
              "    <tr>\n",
              "      <td>A</td>\n",
              "      <td>28.0</td>\n",
              "      <td>42.0</td>\n",
              "    </tr>\n",
              "    <tr>\n",
              "      <td>B</td>\n",
              "      <td>76.0</td>\n",
              "      <td>43.0</td>\n",
              "    </tr>\n",
              "    <tr>\n",
              "      <td>C</td>\n",
              "      <td>58.0</td>\n",
              "      <td>83.0</td>\n",
              "    </tr>\n",
              "    <tr>\n",
              "      <td>D</td>\n",
              "      <td>96.0</td>\n",
              "      <td>93.0</td>\n",
              "    </tr>\n",
              "    <tr>\n",
              "      <td>E</td>\n",
              "      <td>38.0</td>\n",
              "      <td>5.0</td>\n",
              "    </tr>\n",
              "  </tbody>\n",
              "</table>\n",
              "</div>"
            ],
            "text/plain": [
              "   English  Chemistry\n",
              "A     28.0       42.0\n",
              "B     76.0       43.0\n",
              "C     58.0       83.0\n",
              "D     96.0       93.0\n",
              "E     38.0        5.0"
            ]
          },
          "metadata": {
            "tags": []
          },
          "execution_count": 39
        }
      ]
    },
    {
      "cell_type": "code",
      "metadata": {
        "id": "_qpxqu4iJt4b",
        "colab_type": "code",
        "colab": {},
        "outputId": "0ffc4a2e-1488-4e21-9a3c-206bb7a21867"
      },
      "source": [
        "# B君の成績だけを取り出す\n",
        "Dataset.loc['B']"
      ],
      "execution_count": 0,
      "outputs": [
        {
          "output_type": "execute_result",
          "data": {
            "text/plain": [
              "English      76.0\n",
              "Math         45.0\n",
              "Physics      67.0\n",
              "Chemistry    43.0\n",
              "History      90.0\n",
              "Name: B, dtype: float64"
            ]
          },
          "metadata": {
            "tags": []
          },
          "execution_count": 40
        }
      ]
    },
    {
      "cell_type": "code",
      "metadata": {
        "id": "CuEm-9cLJt4g",
        "colab_type": "code",
        "colab": {},
        "outputId": "bef48c93-f3ee-4407-ace2-589d13607b10"
      },
      "source": [
        "# 数学が20点未満の人は誰だろう？\n",
        "Dataset[Dataset['Math']<20]"
      ],
      "execution_count": 0,
      "outputs": [
        {
          "output_type": "execute_result",
          "data": {
            "text/html": [
              "<div>\n",
              "<style scoped>\n",
              "    .dataframe tbody tr th:only-of-type {\n",
              "        vertical-align: middle;\n",
              "    }\n",
              "\n",
              "    .dataframe tbody tr th {\n",
              "        vertical-align: top;\n",
              "    }\n",
              "\n",
              "    .dataframe thead th {\n",
              "        text-align: right;\n",
              "    }\n",
              "</style>\n",
              "<table border=\"1\" class=\"dataframe\">\n",
              "  <thead>\n",
              "    <tr style=\"text-align: right;\">\n",
              "      <th></th>\n",
              "      <th>English</th>\n",
              "      <th>Math</th>\n",
              "      <th>Physics</th>\n",
              "      <th>Chemistry</th>\n",
              "      <th>History</th>\n",
              "    </tr>\n",
              "  </thead>\n",
              "  <tbody>\n",
              "    <tr>\n",
              "      <td>D</td>\n",
              "      <td>96.0</td>\n",
              "      <td>11.0</td>\n",
              "      <td>67.0</td>\n",
              "      <td>93.0</td>\n",
              "      <td>100.0</td>\n",
              "    </tr>\n",
              "    <tr>\n",
              "      <td>N</td>\n",
              "      <td>67.0</td>\n",
              "      <td>14.0</td>\n",
              "      <td>91.0</td>\n",
              "      <td>15.0</td>\n",
              "      <td>14.0</td>\n",
              "    </tr>\n",
              "    <tr>\n",
              "      <td>R</td>\n",
              "      <td>2.0</td>\n",
              "      <td>7.0</td>\n",
              "      <td>15.0</td>\n",
              "      <td>49.0</td>\n",
              "      <td>4.0</td>\n",
              "    </tr>\n",
              "    <tr>\n",
              "      <td>T</td>\n",
              "      <td>67.0</td>\n",
              "      <td>18.0</td>\n",
              "      <td>62.0</td>\n",
              "      <td>3.0</td>\n",
              "      <td>97.0</td>\n",
              "    </tr>\n",
              "  </tbody>\n",
              "</table>\n",
              "</div>"
            ],
            "text/plain": [
              "   English  Math  Physics  Chemistry  History\n",
              "D     96.0  11.0     67.0       93.0    100.0\n",
              "N     67.0  14.0     91.0       15.0     14.0\n",
              "R      2.0   7.0     15.0       49.0      4.0\n",
              "T     67.0  18.0     62.0        3.0     97.0"
            ]
          },
          "metadata": {
            "tags": []
          },
          "execution_count": 41
        }
      ]
    },
    {
      "cell_type": "code",
      "metadata": {
        "id": "sQHOB72MJt4k",
        "colab_type": "code",
        "colab": {},
        "outputId": "5f99541b-497b-486d-ed8f-4db915a90e53"
      },
      "source": [
        "# いろんな方法で可視化してみる\n",
        "Dataset.plot.bar(stacked=True)"
      ],
      "execution_count": 0,
      "outputs": [
        {
          "output_type": "execute_result",
          "data": {
            "text/plain": [
              "<matplotlib.axes._subplots.AxesSubplot at 0x7f2918b44320>"
            ]
          },
          "metadata": {
            "tags": []
          },
          "execution_count": 42
        },
        {
          "output_type": "display_data",
          "data": {
            "image/png": "[encoded data removed]",
            "text/plain": [
              "<Figure size 432x288 with 1 Axes>"
            ]
          },
          "metadata": {
            "tags": [],
            "needs_background": "light"
          }
        }
      ]
    },
    {
      "cell_type": "code",
      "metadata": {
        "id": "s6ayFvxAJt4o",
        "colab_type": "code",
        "colab": {},
        "outputId": "bd514933-7ef0-4e9e-bc28-18b72bfb3abb"
      },
      "source": [
        "sns.boxplot(data=Dataset)"
      ],
      "execution_count": 0,
      "outputs": [
        {
          "output_type": "execute_result",
          "data": {
            "text/plain": [
              "<matplotlib.axes._subplots.AxesSubplot at 0x7f2918974b38>"
            ]
          },
          "metadata": {
            "tags": []
          },
          "execution_count": 43
        },
        {
          "output_type": "display_data",
          "data": {
            "image/png": "[encoded data removed]",
            "text/plain": [
              "<Figure size 432x288 with 1 Axes>"
            ]
          },
          "metadata": {
            "tags": [],
            "needs_background": "light"
          }
        }
      ]
    },
    {
      "cell_type": "code",
      "metadata": {
        "id": "7Z3ONPQHJt4t",
        "colab_type": "code",
        "colab": {},
        "outputId": "48685842-d4de-4d94-feb3-d3214b11adb4"
      },
      "source": [
        "sns.violinplot(data=Dataset)"
      ],
      "execution_count": 0,
      "outputs": [
        {
          "output_type": "execute_result",
          "data": {
            "text/plain": [
              "<matplotlib.axes._subplots.AxesSubplot at 0x7f29188b4cc0>"
            ]
          },
          "metadata": {
            "tags": []
          },
          "execution_count": 44
        },
        {
          "output_type": "display_data",
          "data": {
            "image/png": "[encoded data removed]",
            "text/plain": [
              "<Figure size 432x288 with 1 Axes>"
            ]
          },
          "metadata": {
            "tags": [],
            "needs_background": "light"
          }
        }
      ]
    },
    {
      "cell_type": "code",
      "metadata": {
        "id": "RP_cMqlRJt47",
        "colab_type": "code",
        "colab": {},
        "outputId": "856442a7-cb57-433d-820c-b0ffaab9330d"
      },
      "source": [
        "sns.scatterplot(data=Dataset, x='Physics', y='Chemistry')"
      ],
      "execution_count": 0,
      "outputs": [
        {
          "output_type": "execute_result",
          "data": {
            "text/plain": [
              "<matplotlib.axes._subplots.AxesSubplot at 0x7f291883d320>"
            ]
          },
          "metadata": {
            "tags": []
          },
          "execution_count": 45
        },
        {
          "output_type": "display_data",
          "data": {
            "image/png": "[encoded data removed]",
            "text/plain": [
              "<Figure size 432x288 with 1 Axes>"
            ]
          },
          "metadata": {
            "tags": [],
            "needs_background": "light"
          }
        }
      ]
    },
    {
      "cell_type": "code",
      "metadata": {
        "id": "wHxTUSjGJt4-",
        "colab_type": "code",
        "colab": {},
        "outputId": "e64387c2-26e0-4729-fd2a-e7a3b8f912c3"
      },
      "source": [
        "Dataset.hist(bins=20)\n",
        "plt.subplots_adjust(wspace=0.5, hspace=1)\n",
        "plt.show()"
      ],
      "execution_count": 0,
      "outputs": [
        {
          "output_type": "display_data",
          "data": {
            "image/png": "[encoded data removed]",
            "text/plain": [
              "<Figure size 432x288 with 6 Axes>"
            ]
          },
          "metadata": {
            "tags": [],
            "needs_background": "light"
          }
        }
      ]
    },
    {
      "cell_type": "code",
      "metadata": {
        "id": "I4VWqt4GJt5A",
        "colab_type": "code",
        "colab": {},
        "outputId": "1bef7baf-aa85-439f-cd0d-0c4d7231c5e6"
      },
      "source": [
        "# 合計点に関する列を追加\n",
        "Dataset['Total']=Dataset.sum(axis=1)\n",
        "Dataset"
      ],
      "execution_count": 0,
      "outputs": [
        {
          "output_type": "execute_result",
          "data": {
            "text/html": [
              "<div>\n",
              "<style scoped>\n",
              "    .dataframe tbody tr th:only-of-type {\n",
              "        vertical-align: middle;\n",
              "    }\n",
              "\n",
              "    .dataframe tbody tr th {\n",
              "        vertical-align: top;\n",
              "    }\n",
              "\n",
              "    .dataframe thead th {\n",
              "        text-align: right;\n",
              "    }\n",
              "</style>\n",
              "<table border=\"1\" class=\"dataframe\">\n",
              "  <thead>\n",
              "    <tr style=\"text-align: right;\">\n",
              "      <th></th>\n",
              "      <th>English</th>\n",
              "      <th>Math</th>\n",
              "      <th>Physics</th>\n",
              "      <th>Chemistry</th>\n",
              "      <th>History</th>\n",
              "      <th>Total</th>\n",
              "    </tr>\n",
              "  </thead>\n",
              "  <tbody>\n",
              "    <tr>\n",
              "      <td>A</td>\n",
              "      <td>28.0</td>\n",
              "      <td>44.0</td>\n",
              "      <td>7.0</td>\n",
              "      <td>42.0</td>\n",
              "      <td>47.0</td>\n",
              "      <td>168.0</td>\n",
              "    </tr>\n",
              "    <tr>\n",
              "      <td>B</td>\n",
              "      <td>76.0</td>\n",
              "      <td>45.0</td>\n",
              "      <td>67.0</td>\n",
              "      <td>43.0</td>\n",
              "      <td>90.0</td>\n",
              "      <td>321.0</td>\n",
              "    </tr>\n",
              "    <tr>\n",
              "      <td>C</td>\n",
              "      <td>58.0</td>\n",
              "      <td>68.0</td>\n",
              "      <td>98.0</td>\n",
              "      <td>83.0</td>\n",
              "      <td>81.0</td>\n",
              "      <td>388.0</td>\n",
              "    </tr>\n",
              "    <tr>\n",
              "      <td>D</td>\n",
              "      <td>96.0</td>\n",
              "      <td>11.0</td>\n",
              "      <td>67.0</td>\n",
              "      <td>93.0</td>\n",
              "      <td>100.0</td>\n",
              "      <td>367.0</td>\n",
              "    </tr>\n",
              "    <tr>\n",
              "      <td>E</td>\n",
              "      <td>38.0</td>\n",
              "      <td>24.0</td>\n",
              "      <td>35.0</td>\n",
              "      <td>5.0</td>\n",
              "      <td>23.0</td>\n",
              "      <td>125.0</td>\n",
              "    </tr>\n",
              "    <tr>\n",
              "      <td>F</td>\n",
              "      <td>97.0</td>\n",
              "      <td>89.0</td>\n",
              "      <td>45.0</td>\n",
              "      <td>35.0</td>\n",
              "      <td>15.0</td>\n",
              "      <td>281.0</td>\n",
              "    </tr>\n",
              "    <tr>\n",
              "      <td>G</td>\n",
              "      <td>48.0</td>\n",
              "      <td>76.0</td>\n",
              "      <td>94.0</td>\n",
              "      <td>14.0</td>\n",
              "      <td>0.0</td>\n",
              "      <td>232.0</td>\n",
              "    </tr>\n",
              "    <tr>\n",
              "      <td>H</td>\n",
              "      <td>55.0</td>\n",
              "      <td>62.0</td>\n",
              "      <td>24.0</td>\n",
              "      <td>65.0</td>\n",
              "      <td>30.0</td>\n",
              "      <td>236.0</td>\n",
              "    </tr>\n",
              "    <tr>\n",
              "      <td>I</td>\n",
              "      <td>12.0</td>\n",
              "      <td>59.0</td>\n",
              "      <td>96.0</td>\n",
              "      <td>34.0</td>\n",
              "      <td>29.0</td>\n",
              "      <td>230.0</td>\n",
              "    </tr>\n",
              "    <tr>\n",
              "      <td>J</td>\n",
              "      <td>28.0</td>\n",
              "      <td>77.0</td>\n",
              "      <td>56.0</td>\n",
              "      <td>8.0</td>\n",
              "      <td>0.0</td>\n",
              "      <td>169.0</td>\n",
              "    </tr>\n",
              "    <tr>\n",
              "      <td>K</td>\n",
              "      <td>79.0</td>\n",
              "      <td>64.0</td>\n",
              "      <td>16.0</td>\n",
              "      <td>59.0</td>\n",
              "      <td>40.0</td>\n",
              "      <td>258.0</td>\n",
              "    </tr>\n",
              "    <tr>\n",
              "      <td>L</td>\n",
              "      <td>7.0</td>\n",
              "      <td>61.0</td>\n",
              "      <td>43.0</td>\n",
              "      <td>80.0</td>\n",
              "      <td>98.0</td>\n",
              "      <td>289.0</td>\n",
              "    </tr>\n",
              "    <tr>\n",
              "      <td>M</td>\n",
              "      <td>20.0</td>\n",
              "      <td>35.0</td>\n",
              "      <td>92.0</td>\n",
              "      <td>13.0</td>\n",
              "      <td>33.0</td>\n",
              "      <td>193.0</td>\n",
              "    </tr>\n",
              "    <tr>\n",
              "      <td>N</td>\n",
              "      <td>67.0</td>\n",
              "      <td>14.0</td>\n",
              "      <td>91.0</td>\n",
              "      <td>15.0</td>\n",
              "      <td>14.0</td>\n",
              "      <td>201.0</td>\n",
              "    </tr>\n",
              "    <tr>\n",
              "      <td>O</td>\n",
              "      <td>37.0</td>\n",
              "      <td>23.0</td>\n",
              "      <td>2.0</td>\n",
              "      <td>20.0</td>\n",
              "      <td>2.0</td>\n",
              "      <td>84.0</td>\n",
              "    </tr>\n",
              "    <tr>\n",
              "      <td>P</td>\n",
              "      <td>52.0</td>\n",
              "      <td>63.0</td>\n",
              "      <td>46.0</td>\n",
              "      <td>12.0</td>\n",
              "      <td>46.0</td>\n",
              "      <td>219.0</td>\n",
              "    </tr>\n",
              "    <tr>\n",
              "      <td>Q</td>\n",
              "      <td>1.0</td>\n",
              "      <td>97.0</td>\n",
              "      <td>35.0</td>\n",
              "      <td>83.0</td>\n",
              "      <td>81.0</td>\n",
              "      <td>297.0</td>\n",
              "    </tr>\n",
              "    <tr>\n",
              "      <td>R</td>\n",
              "      <td>2.0</td>\n",
              "      <td>7.0</td>\n",
              "      <td>15.0</td>\n",
              "      <td>49.0</td>\n",
              "      <td>4.0</td>\n",
              "      <td>77.0</td>\n",
              "    </tr>\n",
              "    <tr>\n",
              "      <td>S</td>\n",
              "      <td>76.0</td>\n",
              "      <td>52.0</td>\n",
              "      <td>60.0</td>\n",
              "      <td>54.0</td>\n",
              "      <td>99.0</td>\n",
              "      <td>341.0</td>\n",
              "    </tr>\n",
              "    <tr>\n",
              "      <td>T</td>\n",
              "      <td>67.0</td>\n",
              "      <td>18.0</td>\n",
              "      <td>62.0</td>\n",
              "      <td>3.0</td>\n",
              "      <td>97.0</td>\n",
              "      <td>247.0</td>\n",
              "    </tr>\n",
              "  </tbody>\n",
              "</table>\n",
              "</div>"
            ],
            "text/plain": [
              "   English  Math  Physics  Chemistry  History  Total\n",
              "A     28.0  44.0      7.0       42.0     47.0  168.0\n",
              "B     76.0  45.0     67.0       43.0     90.0  321.0\n",
              "C     58.0  68.0     98.0       83.0     81.0  388.0\n",
              "D     96.0  11.0     67.0       93.0    100.0  367.0\n",
              "E     38.0  24.0     35.0        5.0     23.0  125.0\n",
              "F     97.0  89.0     45.0       35.0     15.0  281.0\n",
              "G     48.0  76.0     94.0       14.0      0.0  232.0\n",
              "H     55.0  62.0     24.0       65.0     30.0  236.0\n",
              "I     12.0  59.0     96.0       34.0     29.0  230.0\n",
              "J     28.0  77.0     56.0        8.0      0.0  169.0\n",
              "K     79.0  64.0     16.0       59.0     40.0  258.0\n",
              "L      7.0  61.0     43.0       80.0     98.0  289.0\n",
              "M     20.0  35.0     92.0       13.0     33.0  193.0\n",
              "N     67.0  14.0     91.0       15.0     14.0  201.0\n",
              "O     37.0  23.0      2.0       20.0      2.0   84.0\n",
              "P     52.0  63.0     46.0       12.0     46.0  219.0\n",
              "Q      1.0  97.0     35.0       83.0     81.0  297.0\n",
              "R      2.0   7.0     15.0       49.0      4.0   77.0\n",
              "S     76.0  52.0     60.0       54.0     99.0  341.0\n",
              "T     67.0  18.0     62.0        3.0     97.0  247.0"
            ]
          },
          "metadata": {
            "tags": []
          },
          "execution_count": 47
        }
      ]
    },
    {
      "cell_type": "code",
      "metadata": {
        "id": "72dOVMq5Jt5D",
        "colab_type": "code",
        "colab": {},
        "outputId": "9ad643ee-00b6-40ed-992f-d778f79fa64a"
      },
      "source": [
        "# 各科目の統計量はどうだろうか\n",
        "Dataset.describe()"
      ],
      "execution_count": 0,
      "outputs": [
        {
          "output_type": "execute_result",
          "data": {
            "text/html": [
              "<div>\n",
              "<style scoped>\n",
              "    .dataframe tbody tr th:only-of-type {\n",
              "        vertical-align: middle;\n",
              "    }\n",
              "\n",
              "    .dataframe tbody tr th {\n",
              "        vertical-align: top;\n",
              "    }\n",
              "\n",
              "    .dataframe thead th {\n",
              "        text-align: right;\n",
              "    }\n",
              "</style>\n",
              "<table border=\"1\" class=\"dataframe\">\n",
              "  <thead>\n",
              "    <tr style=\"text-align: right;\">\n",
              "      <th></th>\n",
              "      <th>English</th>\n",
              "      <th>Math</th>\n",
              "      <th>Physics</th>\n",
              "      <th>Chemistry</th>\n",
              "      <th>History</th>\n",
              "      <th>Total</th>\n",
              "    </tr>\n",
              "  </thead>\n",
              "  <tbody>\n",
              "    <tr>\n",
              "      <td>count</td>\n",
              "      <td>20.000000</td>\n",
              "      <td>20.000000</td>\n",
              "      <td>20.000000</td>\n",
              "      <td>20.000000</td>\n",
              "      <td>20.000000</td>\n",
              "      <td>20.000000</td>\n",
              "    </tr>\n",
              "    <tr>\n",
              "      <td>mean</td>\n",
              "      <td>47.200000</td>\n",
              "      <td>49.450000</td>\n",
              "      <td>52.550000</td>\n",
              "      <td>40.500000</td>\n",
              "      <td>46.450000</td>\n",
              "      <td>236.150000</td>\n",
              "    </tr>\n",
              "    <tr>\n",
              "      <td>std</td>\n",
              "      <td>30.100883</td>\n",
              "      <td>26.703982</td>\n",
              "      <td>31.016931</td>\n",
              "      <td>29.263773</td>\n",
              "      <td>37.422868</td>\n",
              "      <td>86.117591</td>\n",
              "    </tr>\n",
              "    <tr>\n",
              "      <td>min</td>\n",
              "      <td>1.000000</td>\n",
              "      <td>7.000000</td>\n",
              "      <td>2.000000</td>\n",
              "      <td>3.000000</td>\n",
              "      <td>0.000000</td>\n",
              "      <td>77.000000</td>\n",
              "    </tr>\n",
              "    <tr>\n",
              "      <td>25%</td>\n",
              "      <td>26.000000</td>\n",
              "      <td>23.750000</td>\n",
              "      <td>32.250000</td>\n",
              "      <td>13.750000</td>\n",
              "      <td>14.750000</td>\n",
              "      <td>187.000000</td>\n",
              "    </tr>\n",
              "    <tr>\n",
              "      <td>50%</td>\n",
              "      <td>50.000000</td>\n",
              "      <td>55.500000</td>\n",
              "      <td>51.000000</td>\n",
              "      <td>38.500000</td>\n",
              "      <td>36.500000</td>\n",
              "      <td>234.000000</td>\n",
              "    </tr>\n",
              "    <tr>\n",
              "      <td>75%</td>\n",
              "      <td>69.250000</td>\n",
              "      <td>65.000000</td>\n",
              "      <td>73.000000</td>\n",
              "      <td>60.500000</td>\n",
              "      <td>83.250000</td>\n",
              "      <td>291.000000</td>\n",
              "    </tr>\n",
              "    <tr>\n",
              "      <td>max</td>\n",
              "      <td>97.000000</td>\n",
              "      <td>97.000000</td>\n",
              "      <td>98.000000</td>\n",
              "      <td>93.000000</td>\n",
              "      <td>100.000000</td>\n",
              "      <td>388.000000</td>\n",
              "    </tr>\n",
              "  </tbody>\n",
              "</table>\n",
              "</div>"
            ],
            "text/plain": [
              "         English       Math    Physics  Chemistry     History       Total\n",
              "count  20.000000  20.000000  20.000000  20.000000   20.000000   20.000000\n",
              "mean   47.200000  49.450000  52.550000  40.500000   46.450000  236.150000\n",
              "std    30.100883  26.703982  31.016931  29.263773   37.422868   86.117591\n",
              "min     1.000000   7.000000   2.000000   3.000000    0.000000   77.000000\n",
              "25%    26.000000  23.750000  32.250000  13.750000   14.750000  187.000000\n",
              "50%    50.000000  55.500000  51.000000  38.500000   36.500000  234.000000\n",
              "75%    69.250000  65.000000  73.000000  60.500000   83.250000  291.000000\n",
              "max    97.000000  97.000000  98.000000  93.000000  100.000000  388.000000"
            ]
          },
          "metadata": {
            "tags": []
          },
          "execution_count": 48
        }
      ]
    },
    {
      "cell_type": "code",
      "metadata": {
        "id": "m2q45qUOJt5K",
        "colab_type": "code",
        "colab": {},
        "outputId": "18e95597-66c3-4968-c831-b5f51283d8c8"
      },
      "source": [
        "# 性別に関する情報を追加\n",
        "Dataset['Gender']='M'\n",
        "Dataset['Gender'][[0,1,3,5,10,13,14,15,16,18,19]]='F'\n",
        "Dataset"
      ],
      "execution_count": 0,
      "outputs": [
        {
          "output_type": "stream",
          "text": [
            "/mnt/c/Users/Diamond/.pyenv/versions/miniconda3-latest/lib/python3.6/site-packages/ipykernel_launcher.py:3: SettingWithCopyWarning: \n",
            "A value is trying to be set on a copy of a slice from a DataFrame\n",
            "\n",
            "See the caveats in the documentation: http://pandas.pydata.org/pandas-docs/stable/user_guide/indexing.html#returning-a-view-versus-a-copy\n",
            "  This is separate from the ipykernel package so we can avoid doing imports until\n"
          ],
          "name": "stderr"
        },
        {
          "output_type": "execute_result",
          "data": {
            "text/html": [
              "<div>\n",
              "<style scoped>\n",
              "    .dataframe tbody tr th:only-of-type {\n",
              "        vertical-align: middle;\n",
              "    }\n",
              "\n",
              "    .dataframe tbody tr th {\n",
              "        vertical-align: top;\n",
              "    }\n",
              "\n",
              "    .dataframe thead th {\n",
              "        text-align: right;\n",
              "    }\n",
              "</style>\n",
              "<table border=\"1\" class=\"dataframe\">\n",
              "  <thead>\n",
              "    <tr style=\"text-align: right;\">\n",
              "      <th></th>\n",
              "      <th>English</th>\n",
              "      <th>Math</th>\n",
              "      <th>Physics</th>\n",
              "      <th>Chemistry</th>\n",
              "      <th>History</th>\n",
              "      <th>Total</th>\n",
              "      <th>Gender</th>\n",
              "    </tr>\n",
              "  </thead>\n",
              "  <tbody>\n",
              "    <tr>\n",
              "      <td>A</td>\n",
              "      <td>28.0</td>\n",
              "      <td>44.0</td>\n",
              "      <td>7.0</td>\n",
              "      <td>42.0</td>\n",
              "      <td>47.0</td>\n",
              "      <td>168.0</td>\n",
              "      <td>F</td>\n",
              "    </tr>\n",
              "    <tr>\n",
              "      <td>B</td>\n",
              "      <td>76.0</td>\n",
              "      <td>45.0</td>\n",
              "      <td>67.0</td>\n",
              "      <td>43.0</td>\n",
              "      <td>90.0</td>\n",
              "      <td>321.0</td>\n",
              "      <td>F</td>\n",
              "    </tr>\n",
              "    <tr>\n",
              "      <td>C</td>\n",
              "      <td>58.0</td>\n",
              "      <td>68.0</td>\n",
              "      <td>98.0</td>\n",
              "      <td>83.0</td>\n",
              "      <td>81.0</td>\n",
              "      <td>388.0</td>\n",
              "      <td>M</td>\n",
              "    </tr>\n",
              "    <tr>\n",
              "      <td>D</td>\n",
              "      <td>96.0</td>\n",
              "      <td>11.0</td>\n",
              "      <td>67.0</td>\n",
              "      <td>93.0</td>\n",
              "      <td>100.0</td>\n",
              "      <td>367.0</td>\n",
              "      <td>F</td>\n",
              "    </tr>\n",
              "    <tr>\n",
              "      <td>E</td>\n",
              "      <td>38.0</td>\n",
              "      <td>24.0</td>\n",
              "      <td>35.0</td>\n",
              "      <td>5.0</td>\n",
              "      <td>23.0</td>\n",
              "      <td>125.0</td>\n",
              "      <td>M</td>\n",
              "    </tr>\n",
              "    <tr>\n",
              "      <td>F</td>\n",
              "      <td>97.0</td>\n",
              "      <td>89.0</td>\n",
              "      <td>45.0</td>\n",
              "      <td>35.0</td>\n",
              "      <td>15.0</td>\n",
              "      <td>281.0</td>\n",
              "      <td>F</td>\n",
              "    </tr>\n",
              "    <tr>\n",
              "      <td>G</td>\n",
              "      <td>48.0</td>\n",
              "      <td>76.0</td>\n",
              "      <td>94.0</td>\n",
              "      <td>14.0</td>\n",
              "      <td>0.0</td>\n",
              "      <td>232.0</td>\n",
              "      <td>M</td>\n",
              "    </tr>\n",
              "    <tr>\n",
              "      <td>H</td>\n",
              "      <td>55.0</td>\n",
              "      <td>62.0</td>\n",
              "      <td>24.0</td>\n",
              "      <td>65.0</td>\n",
              "      <td>30.0</td>\n",
              "      <td>236.0</td>\n",
              "      <td>M</td>\n",
              "    </tr>\n",
              "    <tr>\n",
              "      <td>I</td>\n",
              "      <td>12.0</td>\n",
              "      <td>59.0</td>\n",
              "      <td>96.0</td>\n",
              "      <td>34.0</td>\n",
              "      <td>29.0</td>\n",
              "      <td>230.0</td>\n",
              "      <td>M</td>\n",
              "    </tr>\n",
              "    <tr>\n",
              "      <td>J</td>\n",
              "      <td>28.0</td>\n",
              "      <td>77.0</td>\n",
              "      <td>56.0</td>\n",
              "      <td>8.0</td>\n",
              "      <td>0.0</td>\n",
              "      <td>169.0</td>\n",
              "      <td>M</td>\n",
              "    </tr>\n",
              "    <tr>\n",
              "      <td>K</td>\n",
              "      <td>79.0</td>\n",
              "      <td>64.0</td>\n",
              "      <td>16.0</td>\n",
              "      <td>59.0</td>\n",
              "      <td>40.0</td>\n",
              "      <td>258.0</td>\n",
              "      <td>F</td>\n",
              "    </tr>\n",
              "    <tr>\n",
              "      <td>L</td>\n",
              "      <td>7.0</td>\n",
              "      <td>61.0</td>\n",
              "      <td>43.0</td>\n",
              "      <td>80.0</td>\n",
              "      <td>98.0</td>\n",
              "      <td>289.0</td>\n",
              "      <td>M</td>\n",
              "    </tr>\n",
              "    <tr>\n",
              "      <td>M</td>\n",
              "      <td>20.0</td>\n",
              "      <td>35.0</td>\n",
              "      <td>92.0</td>\n",
              "      <td>13.0</td>\n",
              "      <td>33.0</td>\n",
              "      <td>193.0</td>\n",
              "      <td>M</td>\n",
              "    </tr>\n",
              "    <tr>\n",
              "      <td>N</td>\n",
              "      <td>67.0</td>\n",
              "      <td>14.0</td>\n",
              "      <td>91.0</td>\n",
              "      <td>15.0</td>\n",
              "      <td>14.0</td>\n",
              "      <td>201.0</td>\n",
              "      <td>F</td>\n",
              "    </tr>\n",
              "    <tr>\n",
              "      <td>O</td>\n",
              "      <td>37.0</td>\n",
              "      <td>23.0</td>\n",
              "      <td>2.0</td>\n",
              "      <td>20.0</td>\n",
              "      <td>2.0</td>\n",
              "      <td>84.0</td>\n",
              "      <td>F</td>\n",
              "    </tr>\n",
              "    <tr>\n",
              "      <td>P</td>\n",
              "      <td>52.0</td>\n",
              "      <td>63.0</td>\n",
              "      <td>46.0</td>\n",
              "      <td>12.0</td>\n",
              "      <td>46.0</td>\n",
              "      <td>219.0</td>\n",
              "      <td>F</td>\n",
              "    </tr>\n",
              "    <tr>\n",
              "      <td>Q</td>\n",
              "      <td>1.0</td>\n",
              "      <td>97.0</td>\n",
              "      <td>35.0</td>\n",
              "      <td>83.0</td>\n",
              "      <td>81.0</td>\n",
              "      <td>297.0</td>\n",
              "      <td>F</td>\n",
              "    </tr>\n",
              "    <tr>\n",
              "      <td>R</td>\n",
              "      <td>2.0</td>\n",
              "      <td>7.0</td>\n",
              "      <td>15.0</td>\n",
              "      <td>49.0</td>\n",
              "      <td>4.0</td>\n",
              "      <td>77.0</td>\n",
              "      <td>M</td>\n",
              "    </tr>\n",
              "    <tr>\n",
              "      <td>S</td>\n",
              "      <td>76.0</td>\n",
              "      <td>52.0</td>\n",
              "      <td>60.0</td>\n",
              "      <td>54.0</td>\n",
              "      <td>99.0</td>\n",
              "      <td>341.0</td>\n",
              "      <td>F</td>\n",
              "    </tr>\n",
              "    <tr>\n",
              "      <td>T</td>\n",
              "      <td>67.0</td>\n",
              "      <td>18.0</td>\n",
              "      <td>62.0</td>\n",
              "      <td>3.0</td>\n",
              "      <td>97.0</td>\n",
              "      <td>247.0</td>\n",
              "      <td>F</td>\n",
              "    </tr>\n",
              "  </tbody>\n",
              "</table>\n",
              "</div>"
            ],
            "text/plain": [
              "   English  Math  Physics  Chemistry  History  Total Gender\n",
              "A     28.0  44.0      7.0       42.0     47.0  168.0      F\n",
              "B     76.0  45.0     67.0       43.0     90.0  321.0      F\n",
              "C     58.0  68.0     98.0       83.0     81.0  388.0      M\n",
              "D     96.0  11.0     67.0       93.0    100.0  367.0      F\n",
              "E     38.0  24.0     35.0        5.0     23.0  125.0      M\n",
              "F     97.0  89.0     45.0       35.0     15.0  281.0      F\n",
              "G     48.0  76.0     94.0       14.0      0.0  232.0      M\n",
              "H     55.0  62.0     24.0       65.0     30.0  236.0      M\n",
              "I     12.0  59.0     96.0       34.0     29.0  230.0      M\n",
              "J     28.0  77.0     56.0        8.0      0.0  169.0      M\n",
              "K     79.0  64.0     16.0       59.0     40.0  258.0      F\n",
              "L      7.0  61.0     43.0       80.0     98.0  289.0      M\n",
              "M     20.0  35.0     92.0       13.0     33.0  193.0      M\n",
              "N     67.0  14.0     91.0       15.0     14.0  201.0      F\n",
              "O     37.0  23.0      2.0       20.0      2.0   84.0      F\n",
              "P     52.0  63.0     46.0       12.0     46.0  219.0      F\n",
              "Q      1.0  97.0     35.0       83.0     81.0  297.0      F\n",
              "R      2.0   7.0     15.0       49.0      4.0   77.0      M\n",
              "S     76.0  52.0     60.0       54.0     99.0  341.0      F\n",
              "T     67.0  18.0     62.0        3.0     97.0  247.0      F"
            ]
          },
          "metadata": {
            "tags": []
          },
          "execution_count": 49
        }
      ]
    },
    {
      "cell_type": "code",
      "metadata": {
        "id": "yC-6UrSgJt5O",
        "colab_type": "code",
        "colab": {},
        "outputId": "92ca85a0-aad5-4b58-ce23-a7db6e0365a3"
      },
      "source": [
        "Dataset.Gender.value_counts()"
      ],
      "execution_count": 0,
      "outputs": [
        {
          "output_type": "execute_result",
          "data": {
            "text/plain": [
              "F    11\n",
              "M     9\n",
              "Name: Gender, dtype: int64"
            ]
          },
          "metadata": {
            "tags": []
          },
          "execution_count": 50
        }
      ]
    },
    {
      "cell_type": "code",
      "metadata": {
        "id": "s3aHj3kFJt5S",
        "colab_type": "code",
        "colab": {},
        "outputId": "4e9d7dab-9f2c-4ef8-dc1a-ec47b1e23ec9"
      },
      "source": [
        "# 性別ごとの平均点はどうだろう\n",
        "grouped=Dataset.groupby('Gender')\n",
        "grouped.mean()"
      ],
      "execution_count": 0,
      "outputs": [
        {
          "output_type": "execute_result",
          "data": {
            "text/html": [
              "<div>\n",
              "<style scoped>\n",
              "    .dataframe tbody tr th:only-of-type {\n",
              "        vertical-align: middle;\n",
              "    }\n",
              "\n",
              "    .dataframe tbody tr th {\n",
              "        vertical-align: top;\n",
              "    }\n",
              "\n",
              "    .dataframe thead th {\n",
              "        text-align: right;\n",
              "    }\n",
              "</style>\n",
              "<table border=\"1\" class=\"dataframe\">\n",
              "  <thead>\n",
              "    <tr style=\"text-align: right;\">\n",
              "      <th></th>\n",
              "      <th>English</th>\n",
              "      <th>Math</th>\n",
              "      <th>Physics</th>\n",
              "      <th>Chemistry</th>\n",
              "      <th>History</th>\n",
              "      <th>Total</th>\n",
              "    </tr>\n",
              "    <tr>\n",
              "      <th>Gender</th>\n",
              "      <th></th>\n",
              "      <th></th>\n",
              "      <th></th>\n",
              "      <th></th>\n",
              "      <th></th>\n",
              "      <th></th>\n",
              "    </tr>\n",
              "  </thead>\n",
              "  <tbody>\n",
              "    <tr>\n",
              "      <td>F</td>\n",
              "      <td>61.454545</td>\n",
              "      <td>47.272727</td>\n",
              "      <td>45.272727</td>\n",
              "      <td>41.727273</td>\n",
              "      <td>57.363636</td>\n",
              "      <td>253.090909</td>\n",
              "    </tr>\n",
              "    <tr>\n",
              "      <td>M</td>\n",
              "      <td>29.777778</td>\n",
              "      <td>52.111111</td>\n",
              "      <td>61.444444</td>\n",
              "      <td>39.000000</td>\n",
              "      <td>33.111111</td>\n",
              "      <td>215.444444</td>\n",
              "    </tr>\n",
              "  </tbody>\n",
              "</table>\n",
              "</div>"
            ],
            "text/plain": [
              "          English       Math    Physics  Chemistry    History       Total\n",
              "Gender                                                                   \n",
              "F       61.454545  47.272727  45.272727  41.727273  57.363636  253.090909\n",
              "M       29.777778  52.111111  61.444444  39.000000  33.111111  215.444444"
            ]
          },
          "metadata": {
            "tags": []
          },
          "execution_count": 51
        }
      ]
    },
    {
      "cell_type": "code",
      "metadata": {
        "id": "EVSKHSkoJt5a",
        "colab_type": "code",
        "colab": {},
        "outputId": "956a2574-c8e1-41ac-a1fa-c917f15bdebe"
      },
      "source": [
        "# 300点以上の人を合格、それ以下を不合格とする\n",
        "def pass_or_fail(totalscore):\n",
        "    if totalscore>250:\n",
        "        return 'Pass'\n",
        "    else:\n",
        "        return 'Fail'\n",
        "    \n",
        "Dataset['Result']=Dataset['Total'].apply(pass_or_fail)\n",
        "Dataset"
      ],
      "execution_count": 0,
      "outputs": [
        {
          "output_type": "execute_result",
          "data": {
            "text/html": [
              "<div>\n",
              "<style scoped>\n",
              "    .dataframe tbody tr th:only-of-type {\n",
              "        vertical-align: middle;\n",
              "    }\n",
              "\n",
              "    .dataframe tbody tr th {\n",
              "        vertical-align: top;\n",
              "    }\n",
              "\n",
              "    .dataframe thead th {\n",
              "        text-align: right;\n",
              "    }\n",
              "</style>\n",
              "<table border=\"1\" class=\"dataframe\">\n",
              "  <thead>\n",
              "    <tr style=\"text-align: right;\">\n",
              "      <th></th>\n",
              "      <th>English</th>\n",
              "      <th>Math</th>\n",
              "      <th>Physics</th>\n",
              "      <th>Chemistry</th>\n",
              "      <th>History</th>\n",
              "      <th>Total</th>\n",
              "      <th>Gender</th>\n",
              "      <th>Result</th>\n",
              "    </tr>\n",
              "  </thead>\n",
              "  <tbody>\n",
              "    <tr>\n",
              "      <td>A</td>\n",
              "      <td>28.0</td>\n",
              "      <td>44.0</td>\n",
              "      <td>7.0</td>\n",
              "      <td>42.0</td>\n",
              "      <td>47.0</td>\n",
              "      <td>168.0</td>\n",
              "      <td>F</td>\n",
              "      <td>Fail</td>\n",
              "    </tr>\n",
              "    <tr>\n",
              "      <td>B</td>\n",
              "      <td>76.0</td>\n",
              "      <td>45.0</td>\n",
              "      <td>67.0</td>\n",
              "      <td>43.0</td>\n",
              "      <td>90.0</td>\n",
              "      <td>321.0</td>\n",
              "      <td>F</td>\n",
              "      <td>Pass</td>\n",
              "    </tr>\n",
              "    <tr>\n",
              "      <td>C</td>\n",
              "      <td>58.0</td>\n",
              "      <td>68.0</td>\n",
              "      <td>98.0</td>\n",
              "      <td>83.0</td>\n",
              "      <td>81.0</td>\n",
              "      <td>388.0</td>\n",
              "      <td>M</td>\n",
              "      <td>Pass</td>\n",
              "    </tr>\n",
              "    <tr>\n",
              "      <td>D</td>\n",
              "      <td>96.0</td>\n",
              "      <td>11.0</td>\n",
              "      <td>67.0</td>\n",
              "      <td>93.0</td>\n",
              "      <td>100.0</td>\n",
              "      <td>367.0</td>\n",
              "      <td>F</td>\n",
              "      <td>Pass</td>\n",
              "    </tr>\n",
              "    <tr>\n",
              "      <td>E</td>\n",
              "      <td>38.0</td>\n",
              "      <td>24.0</td>\n",
              "      <td>35.0</td>\n",
              "      <td>5.0</td>\n",
              "      <td>23.0</td>\n",
              "      <td>125.0</td>\n",
              "      <td>M</td>\n",
              "      <td>Fail</td>\n",
              "    </tr>\n",
              "    <tr>\n",
              "      <td>F</td>\n",
              "      <td>97.0</td>\n",
              "      <td>89.0</td>\n",
              "      <td>45.0</td>\n",
              "      <td>35.0</td>\n",
              "      <td>15.0</td>\n",
              "      <td>281.0</td>\n",
              "      <td>F</td>\n",
              "      <td>Pass</td>\n",
              "    </tr>\n",
              "    <tr>\n",
              "      <td>G</td>\n",
              "      <td>48.0</td>\n",
              "      <td>76.0</td>\n",
              "      <td>94.0</td>\n",
              "      <td>14.0</td>\n",
              "      <td>0.0</td>\n",
              "      <td>232.0</td>\n",
              "      <td>M</td>\n",
              "      <td>Fail</td>\n",
              "    </tr>\n",
              "    <tr>\n",
              "      <td>H</td>\n",
              "      <td>55.0</td>\n",
              "      <td>62.0</td>\n",
              "      <td>24.0</td>\n",
              "      <td>65.0</td>\n",
              "      <td>30.0</td>\n",
              "      <td>236.0</td>\n",
              "      <td>M</td>\n",
              "      <td>Fail</td>\n",
              "    </tr>\n",
              "    <tr>\n",
              "      <td>I</td>\n",
              "      <td>12.0</td>\n",
              "      <td>59.0</td>\n",
              "      <td>96.0</td>\n",
              "      <td>34.0</td>\n",
              "      <td>29.0</td>\n",
              "      <td>230.0</td>\n",
              "      <td>M</td>\n",
              "      <td>Fail</td>\n",
              "    </tr>\n",
              "    <tr>\n",
              "      <td>J</td>\n",
              "      <td>28.0</td>\n",
              "      <td>77.0</td>\n",
              "      <td>56.0</td>\n",
              "      <td>8.0</td>\n",
              "      <td>0.0</td>\n",
              "      <td>169.0</td>\n",
              "      <td>M</td>\n",
              "      <td>Fail</td>\n",
              "    </tr>\n",
              "    <tr>\n",
              "      <td>K</td>\n",
              "      <td>79.0</td>\n",
              "      <td>64.0</td>\n",
              "      <td>16.0</td>\n",
              "      <td>59.0</td>\n",
              "      <td>40.0</td>\n",
              "      <td>258.0</td>\n",
              "      <td>F</td>\n",
              "      <td>Pass</td>\n",
              "    </tr>\n",
              "    <tr>\n",
              "      <td>L</td>\n",
              "      <td>7.0</td>\n",
              "      <td>61.0</td>\n",
              "      <td>43.0</td>\n",
              "      <td>80.0</td>\n",
              "      <td>98.0</td>\n",
              "      <td>289.0</td>\n",
              "      <td>M</td>\n",
              "      <td>Pass</td>\n",
              "    </tr>\n",
              "    <tr>\n",
              "      <td>M</td>\n",
              "      <td>20.0</td>\n",
              "      <td>35.0</td>\n",
              "      <td>92.0</td>\n",
              "      <td>13.0</td>\n",
              "      <td>33.0</td>\n",
              "      <td>193.0</td>\n",
              "      <td>M</td>\n",
              "      <td>Fail</td>\n",
              "    </tr>\n",
              "    <tr>\n",
              "      <td>N</td>\n",
              "      <td>67.0</td>\n",
              "      <td>14.0</td>\n",
              "      <td>91.0</td>\n",
              "      <td>15.0</td>\n",
              "      <td>14.0</td>\n",
              "      <td>201.0</td>\n",
              "      <td>F</td>\n",
              "      <td>Fail</td>\n",
              "    </tr>\n",
              "    <tr>\n",
              "      <td>O</td>\n",
              "      <td>37.0</td>\n",
              "      <td>23.0</td>\n",
              "      <td>2.0</td>\n",
              "      <td>20.0</td>\n",
              "      <td>2.0</td>\n",
              "      <td>84.0</td>\n",
              "      <td>F</td>\n",
              "      <td>Fail</td>\n",
              "    </tr>\n",
              "    <tr>\n",
              "      <td>P</td>\n",
              "      <td>52.0</td>\n",
              "      <td>63.0</td>\n",
              "      <td>46.0</td>\n",
              "      <td>12.0</td>\n",
              "      <td>46.0</td>\n",
              "      <td>219.0</td>\n",
              "      <td>F</td>\n",
              "      <td>Fail</td>\n",
              "    </tr>\n",
              "    <tr>\n",
              "      <td>Q</td>\n",
              "      <td>1.0</td>\n",
              "      <td>97.0</td>\n",
              "      <td>35.0</td>\n",
              "      <td>83.0</td>\n",
              "      <td>81.0</td>\n",
              "      <td>297.0</td>\n",
              "      <td>F</td>\n",
              "      <td>Pass</td>\n",
              "    </tr>\n",
              "    <tr>\n",
              "      <td>R</td>\n",
              "      <td>2.0</td>\n",
              "      <td>7.0</td>\n",
              "      <td>15.0</td>\n",
              "      <td>49.0</td>\n",
              "      <td>4.0</td>\n",
              "      <td>77.0</td>\n",
              "      <td>M</td>\n",
              "      <td>Fail</td>\n",
              "    </tr>\n",
              "    <tr>\n",
              "      <td>S</td>\n",
              "      <td>76.0</td>\n",
              "      <td>52.0</td>\n",
              "      <td>60.0</td>\n",
              "      <td>54.0</td>\n",
              "      <td>99.0</td>\n",
              "      <td>341.0</td>\n",
              "      <td>F</td>\n",
              "      <td>Pass</td>\n",
              "    </tr>\n",
              "    <tr>\n",
              "      <td>T</td>\n",
              "      <td>67.0</td>\n",
              "      <td>18.0</td>\n",
              "      <td>62.0</td>\n",
              "      <td>3.0</td>\n",
              "      <td>97.0</td>\n",
              "      <td>247.0</td>\n",
              "      <td>F</td>\n",
              "      <td>Fail</td>\n",
              "    </tr>\n",
              "  </tbody>\n",
              "</table>\n",
              "</div>"
            ],
            "text/plain": [
              "   English  Math  Physics  Chemistry  History  Total Gender Result\n",
              "A     28.0  44.0      7.0       42.0     47.0  168.0      F   Fail\n",
              "B     76.0  45.0     67.0       43.0     90.0  321.0      F   Pass\n",
              "C     58.0  68.0     98.0       83.0     81.0  388.0      M   Pass\n",
              "D     96.0  11.0     67.0       93.0    100.0  367.0      F   Pass\n",
              "E     38.0  24.0     35.0        5.0     23.0  125.0      M   Fail\n",
              "F     97.0  89.0     45.0       35.0     15.0  281.0      F   Pass\n",
              "G     48.0  76.0     94.0       14.0      0.0  232.0      M   Fail\n",
              "H     55.0  62.0     24.0       65.0     30.0  236.0      M   Fail\n",
              "I     12.0  59.0     96.0       34.0     29.0  230.0      M   Fail\n",
              "J     28.0  77.0     56.0        8.0      0.0  169.0      M   Fail\n",
              "K     79.0  64.0     16.0       59.0     40.0  258.0      F   Pass\n",
              "L      7.0  61.0     43.0       80.0     98.0  289.0      M   Pass\n",
              "M     20.0  35.0     92.0       13.0     33.0  193.0      M   Fail\n",
              "N     67.0  14.0     91.0       15.0     14.0  201.0      F   Fail\n",
              "O     37.0  23.0      2.0       20.0      2.0   84.0      F   Fail\n",
              "P     52.0  63.0     46.0       12.0     46.0  219.0      F   Fail\n",
              "Q      1.0  97.0     35.0       83.0     81.0  297.0      F   Pass\n",
              "R      2.0   7.0     15.0       49.0      4.0   77.0      M   Fail\n",
              "S     76.0  52.0     60.0       54.0     99.0  341.0      F   Pass\n",
              "T     67.0  18.0     62.0        3.0     97.0  247.0      F   Fail"
            ]
          },
          "metadata": {
            "tags": []
          },
          "execution_count": 52
        }
      ]
    },
    {
      "cell_type": "code",
      "metadata": {
        "id": "oi8tIDOhJt5h",
        "colab_type": "code",
        "colab": {},
        "outputId": "07eb7fb1-a55e-42b6-8d93-5ef321497c86"
      },
      "source": [
        "pd.crosstab(Dataset['Gender'],Dataset['Result'])"
      ],
      "execution_count": 0,
      "outputs": [
        {
          "output_type": "execute_result",
          "data": {
            "text/html": [
              "<div>\n",
              "<style scoped>\n",
              "    .dataframe tbody tr th:only-of-type {\n",
              "        vertical-align: middle;\n",
              "    }\n",
              "\n",
              "    .dataframe tbody tr th {\n",
              "        vertical-align: top;\n",
              "    }\n",
              "\n",
              "    .dataframe thead th {\n",
              "        text-align: right;\n",
              "    }\n",
              "</style>\n",
              "<table border=\"1\" class=\"dataframe\">\n",
              "  <thead>\n",
              "    <tr style=\"text-align: right;\">\n",
              "      <th>Result</th>\n",
              "      <th>Fail</th>\n",
              "      <th>Pass</th>\n",
              "    </tr>\n",
              "    <tr>\n",
              "      <th>Gender</th>\n",
              "      <th></th>\n",
              "      <th></th>\n",
              "    </tr>\n",
              "  </thead>\n",
              "  <tbody>\n",
              "    <tr>\n",
              "      <td>F</td>\n",
              "      <td>5</td>\n",
              "      <td>6</td>\n",
              "    </tr>\n",
              "    <tr>\n",
              "      <td>M</td>\n",
              "      <td>7</td>\n",
              "      <td>2</td>\n",
              "    </tr>\n",
              "  </tbody>\n",
              "</table>\n",
              "</div>"
            ],
            "text/plain": [
              "Result  Fail  Pass\n",
              "Gender            \n",
              "F          5     6\n",
              "M          7     2"
            ]
          },
          "metadata": {
            "tags": []
          },
          "execution_count": 53
        }
      ]
    },
    {
      "cell_type": "code",
      "metadata": {
        "id": "fJM-9j8GJt5o",
        "colab_type": "code",
        "colab": {},
        "outputId": "d5dcd045-5cc0-43f2-f18b-648883afddc3"
      },
      "source": [
        "sns.countplot('Result', data=Dataset, hue='Gender')"
      ],
      "execution_count": 0,
      "outputs": [
        {
          "output_type": "execute_result",
          "data": {
            "text/plain": [
              "<matplotlib.axes._subplots.AxesSubplot at 0x7f291851c908>"
            ]
          },
          "metadata": {
            "tags": []
          },
          "execution_count": 54
        },
        {
          "output_type": "display_data",
          "data": {
            "image/png": "[encoded data removed]",
            "text/plain": [
              "<Figure size 432x288 with 1 Axes>"
            ]
          },
          "metadata": {
            "tags": [],
            "needs_background": "light"
          }
        }
      ]
    },
    {
      "cell_type": "code",
      "metadata": {
        "id": "pKRZl06nJt5u",
        "colab_type": "code",
        "colab": {},
        "outputId": "04b91d99-819e-4fd3-a595-b458253352e5"
      },
      "source": [
        "sns.boxplot(data=Dataset, x='Result', y='English', hue='Gender')"
      ],
      "execution_count": 0,
      "outputs": [
        {
          "output_type": "execute_result",
          "data": {
            "text/plain": [
              "<matplotlib.axes._subplots.AxesSubplot at 0x7f291852c9b0>"
            ]
          },
          "metadata": {
            "tags": []
          },
          "execution_count": 55
        },
        {
          "output_type": "display_data",
          "data": {
            "image/png": "[encoded data removed]",
            "text/plain": [
              "<Figure size 432x288 with 1 Axes>"
            ]
          },
          "metadata": {
            "tags": [],
            "needs_background": "light"
          }
        }
      ]
    },
    {
      "cell_type": "markdown",
      "metadata": {
        "id": "rYQXqjwVJt53",
        "colab_type": "text"
      },
      "source": [
        "# 演習問題\n",
        "## タイタニック号データの解析\n",
        "世界最大の海難事故とされるタイタニック号の沈没事故ですが、何が生死を分けたのでしょうか。このデータセットは、データサイエンスを志す人が必ず一度は触れるものです。"
      ]
    },
    {
      "cell_type": "code",
      "metadata": {
        "id": "RIRyoLnJJt53",
        "colab_type": "code",
        "colab": {},
        "outputId": "db832eb0-a568-48d7-f223-7899f3a68101"
      },
      "source": [
        "Titanic_data=pd.read_csv('https://raw.githubusercontent.com/pcsanwald/kaggle-titanic/master/train.csv')\n",
        "Titanic_data"
      ],
      "execution_count": 0,
      "outputs": [
        {
          "output_type": "execute_result",
          "data": {
            "text/html": [
              "<div>\n",
              "<style scoped>\n",
              "    .dataframe tbody tr th:only-of-type {\n",
              "        vertical-align: middle;\n",
              "    }\n",
              "\n",
              "    .dataframe tbody tr th {\n",
              "        vertical-align: top;\n",
              "    }\n",
              "\n",
              "    .dataframe thead th {\n",
              "        text-align: right;\n",
              "    }\n",
              "</style>\n",
              "<table border=\"1\" class=\"dataframe\">\n",
              "  <thead>\n",
              "    <tr style=\"text-align: right;\">\n",
              "      <th></th>\n",
              "      <th>survived</th>\n",
              "      <th>pclass</th>\n",
              "      <th>name</th>\n",
              "      <th>sex</th>\n",
              "      <th>age</th>\n",
              "      <th>sibsp</th>\n",
              "      <th>parch</th>\n",
              "      <th>ticket</th>\n",
              "      <th>fare</th>\n",
              "      <th>cabin</th>\n",
              "      <th>embarked</th>\n",
              "    </tr>\n",
              "  </thead>\n",
              "  <tbody>\n",
              "    <tr>\n",
              "      <td>0</td>\n",
              "      <td>0</td>\n",
              "      <td>3</td>\n",
              "      <td>Braund, Mr. Owen Harris</td>\n",
              "      <td>male</td>\n",
              "      <td>22.0</td>\n",
              "      <td>1</td>\n",
              "      <td>0</td>\n",
              "      <td>A/5 21171</td>\n",
              "      <td>7.2500</td>\n",
              "      <td>NaN</td>\n",
              "      <td>S</td>\n",
              "    </tr>\n",
              "    <tr>\n",
              "      <td>1</td>\n",
              "      <td>1</td>\n",
              "      <td>1</td>\n",
              "      <td>Cumings, Mrs. John Bradley (Florence Briggs Th...</td>\n",
              "      <td>female</td>\n",
              "      <td>38.0</td>\n",
              "      <td>1</td>\n",
              "      <td>0</td>\n",
              "      <td>PC 17599</td>\n",
              "      <td>71.2833</td>\n",
              "      <td>C85</td>\n",
              "      <td>C</td>\n",
              "    </tr>\n",
              "    <tr>\n",
              "      <td>2</td>\n",
              "      <td>1</td>\n",
              "      <td>3</td>\n",
              "      <td>Heikkinen, Miss. Laina</td>\n",
              "      <td>female</td>\n",
              "      <td>26.0</td>\n",
              "      <td>0</td>\n",
              "      <td>0</td>\n",
              "      <td>STON/O2. 3101282</td>\n",
              "      <td>7.9250</td>\n",
              "      <td>NaN</td>\n",
              "      <td>S</td>\n",
              "    </tr>\n",
              "    <tr>\n",
              "      <td>3</td>\n",
              "      <td>1</td>\n",
              "      <td>1</td>\n",
              "      <td>Futrelle, Mrs. Jacques Heath (Lily May Peel)</td>\n",
              "      <td>female</td>\n",
              "      <td>35.0</td>\n",
              "      <td>1</td>\n",
              "      <td>0</td>\n",
              "      <td>113803</td>\n",
              "      <td>53.1000</td>\n",
              "      <td>C123</td>\n",
              "      <td>S</td>\n",
              "    </tr>\n",
              "    <tr>\n",
              "      <td>4</td>\n",
              "      <td>0</td>\n",
              "      <td>3</td>\n",
              "      <td>Allen, Mr. William Henry</td>\n",
              "      <td>male</td>\n",
              "      <td>35.0</td>\n",
              "      <td>0</td>\n",
              "      <td>0</td>\n",
              "      <td>373450</td>\n",
              "      <td>8.0500</td>\n",
              "      <td>NaN</td>\n",
              "      <td>S</td>\n",
              "    </tr>\n",
              "    <tr>\n",
              "      <td>...</td>\n",
              "      <td>...</td>\n",
              "      <td>...</td>\n",
              "      <td>...</td>\n",
              "      <td>...</td>\n",
              "      <td>...</td>\n",
              "      <td>...</td>\n",
              "      <td>...</td>\n",
              "      <td>...</td>\n",
              "      <td>...</td>\n",
              "      <td>...</td>\n",
              "      <td>...</td>\n",
              "    </tr>\n",
              "    <tr>\n",
              "      <td>886</td>\n",
              "      <td>0</td>\n",
              "      <td>2</td>\n",
              "      <td>Montvila, Rev. Juozas</td>\n",
              "      <td>male</td>\n",
              "      <td>27.0</td>\n",
              "      <td>0</td>\n",
              "      <td>0</td>\n",
              "      <td>211536</td>\n",
              "      <td>13.0000</td>\n",
              "      <td>NaN</td>\n",
              "      <td>S</td>\n",
              "    </tr>\n",
              "    <tr>\n",
              "      <td>887</td>\n",
              "      <td>1</td>\n",
              "      <td>1</td>\n",
              "      <td>Graham, Miss. Margaret Edith</td>\n",
              "      <td>female</td>\n",
              "      <td>19.0</td>\n",
              "      <td>0</td>\n",
              "      <td>0</td>\n",
              "      <td>112053</td>\n",
              "      <td>30.0000</td>\n",
              "      <td>B42</td>\n",
              "      <td>S</td>\n",
              "    </tr>\n",
              "    <tr>\n",
              "      <td>888</td>\n",
              "      <td>0</td>\n",
              "      <td>3</td>\n",
              "      <td>Johnston, Miss. Catherine Helen \"Carrie\"</td>\n",
              "      <td>female</td>\n",
              "      <td>NaN</td>\n",
              "      <td>1</td>\n",
              "      <td>2</td>\n",
              "      <td>W./C. 6607</td>\n",
              "      <td>23.4500</td>\n",
              "      <td>NaN</td>\n",
              "      <td>S</td>\n",
              "    </tr>\n",
              "    <tr>\n",
              "      <td>889</td>\n",
              "      <td>1</td>\n",
              "      <td>1</td>\n",
              "      <td>Behr, Mr. Karl Howell</td>\n",
              "      <td>male</td>\n",
              "      <td>26.0</td>\n",
              "      <td>0</td>\n",
              "      <td>0</td>\n",
              "      <td>111369</td>\n",
              "      <td>30.0000</td>\n",
              "      <td>C148</td>\n",
              "      <td>C</td>\n",
              "    </tr>\n",
              "    <tr>\n",
              "      <td>890</td>\n",
              "      <td>0</td>\n",
              "      <td>3</td>\n",
              "      <td>Dooley, Mr. Patrick</td>\n",
              "      <td>male</td>\n",
              "      <td>32.0</td>\n",
              "      <td>0</td>\n",
              "      <td>0</td>\n",
              "      <td>370376</td>\n",
              "      <td>7.7500</td>\n",
              "      <td>NaN</td>\n",
              "      <td>Q</td>\n",
              "    </tr>\n",
              "  </tbody>\n",
              "</table>\n",
              "<p>891 rows × 11 columns</p>\n",
              "</div>"
            ],
            "text/plain": [
              "     survived  pclass                                               name  \\\n",
              "0           0       3                            Braund, Mr. Owen Harris   \n",
              "1           1       1  Cumings, Mrs. John Bradley (Florence Briggs Th...   \n",
              "2           1       3                             Heikkinen, Miss. Laina   \n",
              "3           1       1       Futrelle, Mrs. Jacques Heath (Lily May Peel)   \n",
              "4           0       3                           Allen, Mr. William Henry   \n",
              "..        ...     ...                                                ...   \n",
              "886         0       2                              Montvila, Rev. Juozas   \n",
              "887         1       1                       Graham, Miss. Margaret Edith   \n",
              "888         0       3           Johnston, Miss. Catherine Helen \"Carrie\"   \n",
              "889         1       1                              Behr, Mr. Karl Howell   \n",
              "890         0       3                                Dooley, Mr. Patrick   \n",
              "\n",
              "        sex   age  sibsp  parch            ticket     fare cabin embarked  \n",
              "0      male  22.0      1      0         A/5 21171   7.2500   NaN        S  \n",
              "1    female  38.0      1      0          PC 17599  71.2833   C85        C  \n",
              "2    female  26.0      0      0  STON/O2. 3101282   7.9250   NaN        S  \n",
              "3    female  35.0      1      0            113803  53.1000  C123        S  \n",
              "4      male  35.0      0      0            373450   8.0500   NaN        S  \n",
              "..      ...   ...    ...    ...               ...      ...   ...      ...  \n",
              "886    male  27.0      0      0            211536  13.0000   NaN        S  \n",
              "887  female  19.0      0      0            112053  30.0000   B42        S  \n",
              "888  female   NaN      1      2        W./C. 6607  23.4500   NaN        S  \n",
              "889    male  26.0      0      0            111369  30.0000  C148        C  \n",
              "890    male  32.0      0      0            370376   7.7500   NaN        Q  \n",
              "\n",
              "[891 rows x 11 columns]"
            ]
          },
          "metadata": {
            "tags": []
          },
          "execution_count": 56
        }
      ]
    },
    {
      "cell_type": "code",
      "metadata": {
        "id": "b0voxLKnJt58",
        "colab_type": "code",
        "colab": {},
        "outputId": "c662c29d-0686-41ac-fc89-bfb0b90fcffc"
      },
      "source": [
        "Titanic=Titanic_data[['survived','pclass','sex', 'age', 'fare']]\n",
        "Titanic"
      ],
      "execution_count": 0,
      "outputs": [
        {
          "output_type": "execute_result",
          "data": {
            "text/html": [
              "<div>\n",
              "<style scoped>\n",
              "    .dataframe tbody tr th:only-of-type {\n",
              "        vertical-align: middle;\n",
              "    }\n",
              "\n",
              "    .dataframe tbody tr th {\n",
              "        vertical-align: top;\n",
              "    }\n",
              "\n",
              "    .dataframe thead th {\n",
              "        text-align: right;\n",
              "    }\n",
              "</style>\n",
              "<table border=\"1\" class=\"dataframe\">\n",
              "  <thead>\n",
              "    <tr style=\"text-align: right;\">\n",
              "      <th></th>\n",
              "      <th>survived</th>\n",
              "      <th>pclass</th>\n",
              "      <th>sex</th>\n",
              "      <th>age</th>\n",
              "      <th>fare</th>\n",
              "    </tr>\n",
              "  </thead>\n",
              "  <tbody>\n",
              "    <tr>\n",
              "      <td>0</td>\n",
              "      <td>0</td>\n",
              "      <td>3</td>\n",
              "      <td>male</td>\n",
              "      <td>22.0</td>\n",
              "      <td>7.2500</td>\n",
              "    </tr>\n",
              "    <tr>\n",
              "      <td>1</td>\n",
              "      <td>1</td>\n",
              "      <td>1</td>\n",
              "      <td>female</td>\n",
              "      <td>38.0</td>\n",
              "      <td>71.2833</td>\n",
              "    </tr>\n",
              "    <tr>\n",
              "      <td>2</td>\n",
              "      <td>1</td>\n",
              "      <td>3</td>\n",
              "      <td>female</td>\n",
              "      <td>26.0</td>\n",
              "      <td>7.9250</td>\n",
              "    </tr>\n",
              "    <tr>\n",
              "      <td>3</td>\n",
              "      <td>1</td>\n",
              "      <td>1</td>\n",
              "      <td>female</td>\n",
              "      <td>35.0</td>\n",
              "      <td>53.1000</td>\n",
              "    </tr>\n",
              "    <tr>\n",
              "      <td>4</td>\n",
              "      <td>0</td>\n",
              "      <td>3</td>\n",
              "      <td>male</td>\n",
              "      <td>35.0</td>\n",
              "      <td>8.0500</td>\n",
              "    </tr>\n",
              "    <tr>\n",
              "      <td>...</td>\n",
              "      <td>...</td>\n",
              "      <td>...</td>\n",
              "      <td>...</td>\n",
              "      <td>...</td>\n",
              "      <td>...</td>\n",
              "    </tr>\n",
              "    <tr>\n",
              "      <td>886</td>\n",
              "      <td>0</td>\n",
              "      <td>2</td>\n",
              "      <td>male</td>\n",
              "      <td>27.0</td>\n",
              "      <td>13.0000</td>\n",
              "    </tr>\n",
              "    <tr>\n",
              "      <td>887</td>\n",
              "      <td>1</td>\n",
              "      <td>1</td>\n",
              "      <td>female</td>\n",
              "      <td>19.0</td>\n",
              "      <td>30.0000</td>\n",
              "    </tr>\n",
              "    <tr>\n",
              "      <td>888</td>\n",
              "      <td>0</td>\n",
              "      <td>3</td>\n",
              "      <td>female</td>\n",
              "      <td>NaN</td>\n",
              "      <td>23.4500</td>\n",
              "    </tr>\n",
              "    <tr>\n",
              "      <td>889</td>\n",
              "      <td>1</td>\n",
              "      <td>1</td>\n",
              "      <td>male</td>\n",
              "      <td>26.0</td>\n",
              "      <td>30.0000</td>\n",
              "    </tr>\n",
              "    <tr>\n",
              "      <td>890</td>\n",
              "      <td>0</td>\n",
              "      <td>3</td>\n",
              "      <td>male</td>\n",
              "      <td>32.0</td>\n",
              "      <td>7.7500</td>\n",
              "    </tr>\n",
              "  </tbody>\n",
              "</table>\n",
              "<p>891 rows × 5 columns</p>\n",
              "</div>"
            ],
            "text/plain": [
              "     survived  pclass     sex   age     fare\n",
              "0           0       3    male  22.0   7.2500\n",
              "1           1       1  female  38.0  71.2833\n",
              "2           1       3  female  26.0   7.9250\n",
              "3           1       1  female  35.0  53.1000\n",
              "4           0       3    male  35.0   8.0500\n",
              "..        ...     ...     ...   ...      ...\n",
              "886         0       2    male  27.0  13.0000\n",
              "887         1       1  female  19.0  30.0000\n",
              "888         0       3  female   NaN  23.4500\n",
              "889         1       1    male  26.0  30.0000\n",
              "890         0       3    male  32.0   7.7500\n",
              "\n",
              "[891 rows x 5 columns]"
            ]
          },
          "metadata": {
            "tags": []
          },
          "execution_count": 57
        }
      ]
    },
    {
      "cell_type": "code",
      "metadata": {
        "id": "dxdU-QHPJt6B",
        "colab_type": "code",
        "colab": {},
        "outputId": "2b99a923-3ead-440c-d99b-0fbaa9311d12"
      },
      "source": [
        "Titanic.info()"
      ],
      "execution_count": 0,
      "outputs": [
        {
          "output_type": "stream",
          "text": [
            "<class 'pandas.core.frame.DataFrame'>\n",
            "RangeIndex: 891 entries, 0 to 890\n",
            "Data columns (total 5 columns):\n",
            "survived    891 non-null int64\n",
            "pclass      891 non-null int64\n",
            "sex         891 non-null object\n",
            "age         714 non-null float64\n",
            "fare        891 non-null float64\n",
            "dtypes: float64(2), int64(2), object(1)\n",
            "memory usage: 34.9+ KB\n"
          ],
          "name": "stdout"
        }
      ]
    },
    {
      "cell_type": "markdown",
      "metadata": {
        "id": "wCFEF5bKJt6I",
        "colab_type": "text"
      },
      "source": [
        "## 以下の問題を考えてみよう\n",
        "\n",
        "(1) 'Gender'という新しい列を作り、17歳以下は男女問わずにChildという文字を入れ、18歳以上の人については元の'sex'の列の要素を入れてください。\n",
        "\n",
        "(2) 客室の各階級に、男性、女性、子供は何人ずつ乗っていたのかを答えてください。\n",
        "\n",
        "(3) 客室の階級が高いほど運賃は高そうですが、客室のランクごとの運賃の分布を可視化しなさい。また、客室のランクごとの乗客の年齢の分布を可視化しなさい。\n",
        "\n",
        "(4) 客室のランクごとの生存率を計算してください。また、男性、女性、子供の生存率はどうでしょうか。\n",
        "\n",
        "(5) sns.catplot(data=Titanic, kind='strip', x='pclass', y='age', hue='survived', col='Gender', dodge=True)というプログラムを実行してみましょう。この図からわかることは何でしょうか。"
      ]
    },
    {
      "cell_type": "markdown",
      "metadata": {
        "id": "jx2HO6seJt6I",
        "colab_type": "text"
      },
      "source": [
        "### (1)"
      ]
    },
    {
      "cell_type": "code",
      "metadata": {
        "id": "bvwcYcqdJt6J",
        "colab_type": "code",
        "colab": {},
        "outputId": "45c321d0-bd60-46c5-84eb-5f88d20ed587"
      },
      "source": [
        "def male_female_child(passenger):\n",
        "    age,sex = passenger\n",
        "    if age < 16:\n",
        "        return 'child'\n",
        "    else:\n",
        "        return sex\n",
        "    \n",
        "Titanic['Gender'] = Titanic[['age','sex']].apply(male_female_child,axis=1)\n",
        "Titanic"
      ],
      "execution_count": 0,
      "outputs": [
        {
          "output_type": "stream",
          "text": [
            "/mnt/c/Users/Diamond/.pyenv/versions/miniconda3-latest/lib/python3.6/site-packages/ipykernel_launcher.py:8: SettingWithCopyWarning: \n",
            "A value is trying to be set on a copy of a slice from a DataFrame.\n",
            "Try using .loc[row_indexer,col_indexer] = value instead\n",
            "\n",
            "See the caveats in the documentation: http://pandas.pydata.org/pandas-docs/stable/user_guide/indexing.html#returning-a-view-versus-a-copy\n",
            "  \n"
          ],
          "name": "stderr"
        },
        {
          "output_type": "execute_result",
          "data": {
            "text/html": [
              "<div>\n",
              "<style scoped>\n",
              "    .dataframe tbody tr th:only-of-type {\n",
              "        vertical-align: middle;\n",
              "    }\n",
              "\n",
              "    .dataframe tbody tr th {\n",
              "        vertical-align: top;\n",
              "    }\n",
              "\n",
              "    .dataframe thead th {\n",
              "        text-align: right;\n",
              "    }\n",
              "</style>\n",
              "<table border=\"1\" class=\"dataframe\">\n",
              "  <thead>\n",
              "    <tr style=\"text-align: right;\">\n",
              "      <th></th>\n",
              "      <th>survived</th>\n",
              "      <th>pclass</th>\n",
              "      <th>sex</th>\n",
              "      <th>age</th>\n",
              "      <th>fare</th>\n",
              "      <th>Gender</th>\n",
              "    </tr>\n",
              "  </thead>\n",
              "  <tbody>\n",
              "    <tr>\n",
              "      <td>0</td>\n",
              "      <td>0</td>\n",
              "      <td>3</td>\n",
              "      <td>male</td>\n",
              "      <td>22.0</td>\n",
              "      <td>7.2500</td>\n",
              "      <td>male</td>\n",
              "    </tr>\n",
              "    <tr>\n",
              "      <td>1</td>\n",
              "      <td>1</td>\n",
              "      <td>1</td>\n",
              "      <td>female</td>\n",
              "      <td>38.0</td>\n",
              "      <td>71.2833</td>\n",
              "      <td>female</td>\n",
              "    </tr>\n",
              "    <tr>\n",
              "      <td>2</td>\n",
              "      <td>1</td>\n",
              "      <td>3</td>\n",
              "      <td>female</td>\n",
              "      <td>26.0</td>\n",
              "      <td>7.9250</td>\n",
              "      <td>female</td>\n",
              "    </tr>\n",
              "    <tr>\n",
              "      <td>3</td>\n",
              "      <td>1</td>\n",
              "      <td>1</td>\n",
              "      <td>female</td>\n",
              "      <td>35.0</td>\n",
              "      <td>53.1000</td>\n",
              "      <td>female</td>\n",
              "    </tr>\n",
              "    <tr>\n",
              "      <td>4</td>\n",
              "      <td>0</td>\n",
              "      <td>3</td>\n",
              "      <td>male</td>\n",
              "      <td>35.0</td>\n",
              "      <td>8.0500</td>\n",
              "      <td>male</td>\n",
              "    </tr>\n",
              "    <tr>\n",
              "      <td>...</td>\n",
              "      <td>...</td>\n",
              "      <td>...</td>\n",
              "      <td>...</td>\n",
              "      <td>...</td>\n",
              "      <td>...</td>\n",
              "      <td>...</td>\n",
              "    </tr>\n",
              "    <tr>\n",
              "      <td>886</td>\n",
              "      <td>0</td>\n",
              "      <td>2</td>\n",
              "      <td>male</td>\n",
              "      <td>27.0</td>\n",
              "      <td>13.0000</td>\n",
              "      <td>male</td>\n",
              "    </tr>\n",
              "    <tr>\n",
              "      <td>887</td>\n",
              "      <td>1</td>\n",
              "      <td>1</td>\n",
              "      <td>female</td>\n",
              "      <td>19.0</td>\n",
              "      <td>30.0000</td>\n",
              "      <td>female</td>\n",
              "    </tr>\n",
              "    <tr>\n",
              "      <td>888</td>\n",
              "      <td>0</td>\n",
              "      <td>3</td>\n",
              "      <td>female</td>\n",
              "      <td>NaN</td>\n",
              "      <td>23.4500</td>\n",
              "      <td>female</td>\n",
              "    </tr>\n",
              "    <tr>\n",
              "      <td>889</td>\n",
              "      <td>1</td>\n",
              "      <td>1</td>\n",
              "      <td>male</td>\n",
              "      <td>26.0</td>\n",
              "      <td>30.0000</td>\n",
              "      <td>male</td>\n",
              "    </tr>\n",
              "    <tr>\n",
              "      <td>890</td>\n",
              "      <td>0</td>\n",
              "      <td>3</td>\n",
              "      <td>male</td>\n",
              "      <td>32.0</td>\n",
              "      <td>7.7500</td>\n",
              "      <td>male</td>\n",
              "    </tr>\n",
              "  </tbody>\n",
              "</table>\n",
              "<p>891 rows × 6 columns</p>\n",
              "</div>"
            ],
            "text/plain": [
              "     survived  pclass     sex   age     fare  Gender\n",
              "0           0       3    male  22.0   7.2500    male\n",
              "1           1       1  female  38.0  71.2833  female\n",
              "2           1       3  female  26.0   7.9250  female\n",
              "3           1       1  female  35.0  53.1000  female\n",
              "4           0       3    male  35.0   8.0500    male\n",
              "..        ...     ...     ...   ...      ...     ...\n",
              "886         0       2    male  27.0  13.0000    male\n",
              "887         1       1  female  19.0  30.0000  female\n",
              "888         0       3  female   NaN  23.4500  female\n",
              "889         1       1    male  26.0  30.0000    male\n",
              "890         0       3    male  32.0   7.7500    male\n",
              "\n",
              "[891 rows x 6 columns]"
            ]
          },
          "metadata": {
            "tags": []
          },
          "execution_count": 59
        }
      ]
    },
    {
      "cell_type": "markdown",
      "metadata": {
        "id": "Jt4tCraAJt6N",
        "colab_type": "text"
      },
      "source": [
        "### (2)"
      ]
    },
    {
      "cell_type": "code",
      "metadata": {
        "id": "gWUyqVv5Jt6O",
        "colab_type": "code",
        "colab": {},
        "outputId": "af471d33-8387-46fe-c7dd-2200e3202759"
      },
      "source": [
        "pd.crosstab(Titanic['Gender'],Titanic['pclass'])"
      ],
      "execution_count": 0,
      "outputs": [
        {
          "output_type": "execute_result",
          "data": {
            "text/html": [
              "<div>\n",
              "<style scoped>\n",
              "    .dataframe tbody tr th:only-of-type {\n",
              "        vertical-align: middle;\n",
              "    }\n",
              "\n",
              "    .dataframe tbody tr th {\n",
              "        vertical-align: top;\n",
              "    }\n",
              "\n",
              "    .dataframe thead th {\n",
              "        text-align: right;\n",
              "    }\n",
              "</style>\n",
              "<table border=\"1\" class=\"dataframe\">\n",
              "  <thead>\n",
              "    <tr style=\"text-align: right;\">\n",
              "      <th>pclass</th>\n",
              "      <th>1</th>\n",
              "      <th>2</th>\n",
              "      <th>3</th>\n",
              "    </tr>\n",
              "    <tr>\n",
              "      <th>Gender</th>\n",
              "      <th></th>\n",
              "      <th></th>\n",
              "      <th></th>\n",
              "    </tr>\n",
              "  </thead>\n",
              "  <tbody>\n",
              "    <tr>\n",
              "      <td>child</td>\n",
              "      <td>6</td>\n",
              "      <td>19</td>\n",
              "      <td>58</td>\n",
              "    </tr>\n",
              "    <tr>\n",
              "      <td>female</td>\n",
              "      <td>91</td>\n",
              "      <td>66</td>\n",
              "      <td>114</td>\n",
              "    </tr>\n",
              "    <tr>\n",
              "      <td>male</td>\n",
              "      <td>119</td>\n",
              "      <td>99</td>\n",
              "      <td>319</td>\n",
              "    </tr>\n",
              "  </tbody>\n",
              "</table>\n",
              "</div>"
            ],
            "text/plain": [
              "pclass    1   2    3\n",
              "Gender              \n",
              "child     6  19   58\n",
              "female   91  66  114\n",
              "male    119  99  319"
            ]
          },
          "metadata": {
            "tags": []
          },
          "execution_count": 60
        }
      ]
    },
    {
      "cell_type": "code",
      "metadata": {
        "id": "uwzM5RdBJt6R",
        "colab_type": "code",
        "colab": {},
        "outputId": "6b1d0e8e-b349-448b-efb0-2bc488a9ac74"
      },
      "source": [
        "sns.countplot('Gender', data=Titanic, hue='pclass')"
      ],
      "execution_count": 0,
      "outputs": [
        {
          "output_type": "execute_result",
          "data": {
            "text/plain": [
              "<matplotlib.axes._subplots.AxesSubplot at 0x7f2917d37c88>"
            ]
          },
          "metadata": {
            "tags": []
          },
          "execution_count": 61
        },
        {
          "output_type": "display_data",
          "data": {
            "image/png": "[encoded data removed]",
            "text/plain": [
              "<Figure size 432x288 with 1 Axes>"
            ]
          },
          "metadata": {
            "tags": [],
            "needs_background": "light"
          }
        }
      ]
    },
    {
      "cell_type": "markdown",
      "metadata": {
        "id": "GtMSvv1fJt6T",
        "colab_type": "text"
      },
      "source": [
        "### (3)"
      ]
    },
    {
      "cell_type": "code",
      "metadata": {
        "id": "ADye3droJt6T",
        "colab_type": "code",
        "colab": {},
        "outputId": "69062cd9-e6fe-4578-8c83-631a7d018a97"
      },
      "source": [
        "sns.catplot(data=Titanic, x='pclass', y='fare', hue='Gender', dodge=True)"
      ],
      "execution_count": 0,
      "outputs": [
        {
          "output_type": "execute_result",
          "data": {
            "text/plain": [
              "<seaborn.axisgrid.FacetGrid at 0x7f2917cadef0>"
            ]
          },
          "metadata": {
            "tags": []
          },
          "execution_count": 62
        },
        {
          "output_type": "display_data",
          "data": {
            "image/png": "[encoded data removed]",
            "text/plain": [
              "<Figure size 430.5x360 with 1 Axes>"
            ]
          },
          "metadata": {
            "tags": [],
            "needs_background": "light"
          }
        }
      ]
    },
    {
      "cell_type": "code",
      "metadata": {
        "id": "CUuZ3PxyJt6X",
        "colab_type": "code",
        "colab": {},
        "outputId": "cd78a0c2-d3f1-4b5b-a386-554c5b279fa5"
      },
      "source": [
        "# １等客室を、100ドル以上と以下に分けてみる\n",
        "\n",
        "def pclass_new(passenger):\n",
        "    fare, pclass=passenger\n",
        "    if fare > 100:\n",
        "        return 0\n",
        "    else:\n",
        "        return pclass\n",
        "    \n",
        "Titanic['Pclass'] = Titanic[['fare', 'pclass']].apply(pclass_new, axis=1)\n",
        "Titanic"
      ],
      "execution_count": 0,
      "outputs": [
        {
          "output_type": "stream",
          "text": [
            "/mnt/c/Users/Diamond/.pyenv/versions/miniconda3-latest/lib/python3.6/site-packages/ipykernel_launcher.py:10: SettingWithCopyWarning: \n",
            "A value is trying to be set on a copy of a slice from a DataFrame.\n",
            "Try using .loc[row_indexer,col_indexer] = value instead\n",
            "\n",
            "See the caveats in the documentation: http://pandas.pydata.org/pandas-docs/stable/user_guide/indexing.html#returning-a-view-versus-a-copy\n",
            "  # Remove the CWD from sys.path while we load stuff.\n"
          ],
          "name": "stderr"
        },
        {
          "output_type": "execute_result",
          "data": {
            "text/html": [
              "<div>\n",
              "<style scoped>\n",
              "    .dataframe tbody tr th:only-of-type {\n",
              "        vertical-align: middle;\n",
              "    }\n",
              "\n",
              "    .dataframe tbody tr th {\n",
              "        vertical-align: top;\n",
              "    }\n",
              "\n",
              "    .dataframe thead th {\n",
              "        text-align: right;\n",
              "    }\n",
              "</style>\n",
              "<table border=\"1\" class=\"dataframe\">\n",
              "  <thead>\n",
              "    <tr style=\"text-align: right;\">\n",
              "      <th></th>\n",
              "      <th>survived</th>\n",
              "      <th>pclass</th>\n",
              "      <th>sex</th>\n",
              "      <th>age</th>\n",
              "      <th>fare</th>\n",
              "      <th>Gender</th>\n",
              "      <th>Pclass</th>\n",
              "    </tr>\n",
              "  </thead>\n",
              "  <tbody>\n",
              "    <tr>\n",
              "      <td>0</td>\n",
              "      <td>0</td>\n",
              "      <td>3</td>\n",
              "      <td>male</td>\n",
              "      <td>22.0</td>\n",
              "      <td>7.2500</td>\n",
              "      <td>male</td>\n",
              "      <td>3.0</td>\n",
              "    </tr>\n",
              "    <tr>\n",
              "      <td>1</td>\n",
              "      <td>1</td>\n",
              "      <td>1</td>\n",
              "      <td>female</td>\n",
              "      <td>38.0</td>\n",
              "      <td>71.2833</td>\n",
              "      <td>female</td>\n",
              "      <td>1.0</td>\n",
              "    </tr>\n",
              "    <tr>\n",
              "      <td>2</td>\n",
              "      <td>1</td>\n",
              "      <td>3</td>\n",
              "      <td>female</td>\n",
              "      <td>26.0</td>\n",
              "      <td>7.9250</td>\n",
              "      <td>female</td>\n",
              "      <td>3.0</td>\n",
              "    </tr>\n",
              "    <tr>\n",
              "      <td>3</td>\n",
              "      <td>1</td>\n",
              "      <td>1</td>\n",
              "      <td>female</td>\n",
              "      <td>35.0</td>\n",
              "      <td>53.1000</td>\n",
              "      <td>female</td>\n",
              "      <td>1.0</td>\n",
              "    </tr>\n",
              "    <tr>\n",
              "      <td>4</td>\n",
              "      <td>0</td>\n",
              "      <td>3</td>\n",
              "      <td>male</td>\n",
              "      <td>35.0</td>\n",
              "      <td>8.0500</td>\n",
              "      <td>male</td>\n",
              "      <td>3.0</td>\n",
              "    </tr>\n",
              "    <tr>\n",
              "      <td>...</td>\n",
              "      <td>...</td>\n",
              "      <td>...</td>\n",
              "      <td>...</td>\n",
              "      <td>...</td>\n",
              "      <td>...</td>\n",
              "      <td>...</td>\n",
              "      <td>...</td>\n",
              "    </tr>\n",
              "    <tr>\n",
              "      <td>886</td>\n",
              "      <td>0</td>\n",
              "      <td>2</td>\n",
              "      <td>male</td>\n",
              "      <td>27.0</td>\n",
              "      <td>13.0000</td>\n",
              "      <td>male</td>\n",
              "      <td>2.0</td>\n",
              "    </tr>\n",
              "    <tr>\n",
              "      <td>887</td>\n",
              "      <td>1</td>\n",
              "      <td>1</td>\n",
              "      <td>female</td>\n",
              "      <td>19.0</td>\n",
              "      <td>30.0000</td>\n",
              "      <td>female</td>\n",
              "      <td>1.0</td>\n",
              "    </tr>\n",
              "    <tr>\n",
              "      <td>888</td>\n",
              "      <td>0</td>\n",
              "      <td>3</td>\n",
              "      <td>female</td>\n",
              "      <td>NaN</td>\n",
              "      <td>23.4500</td>\n",
              "      <td>female</td>\n",
              "      <td>3.0</td>\n",
              "    </tr>\n",
              "    <tr>\n",
              "      <td>889</td>\n",
              "      <td>1</td>\n",
              "      <td>1</td>\n",
              "      <td>male</td>\n",
              "      <td>26.0</td>\n",
              "      <td>30.0000</td>\n",
              "      <td>male</td>\n",
              "      <td>1.0</td>\n",
              "    </tr>\n",
              "    <tr>\n",
              "      <td>890</td>\n",
              "      <td>0</td>\n",
              "      <td>3</td>\n",
              "      <td>male</td>\n",
              "      <td>32.0</td>\n",
              "      <td>7.7500</td>\n",
              "      <td>male</td>\n",
              "      <td>3.0</td>\n",
              "    </tr>\n",
              "  </tbody>\n",
              "</table>\n",
              "<p>891 rows × 7 columns</p>\n",
              "</div>"
            ],
            "text/plain": [
              "     survived  pclass     sex   age     fare  Gender  Pclass\n",
              "0           0       3    male  22.0   7.2500    male     3.0\n",
              "1           1       1  female  38.0  71.2833  female     1.0\n",
              "2           1       3  female  26.0   7.9250  female     3.0\n",
              "3           1       1  female  35.0  53.1000  female     1.0\n",
              "4           0       3    male  35.0   8.0500    male     3.0\n",
              "..        ...     ...     ...   ...      ...     ...     ...\n",
              "886         0       2    male  27.0  13.0000    male     2.0\n",
              "887         1       1  female  19.0  30.0000  female     1.0\n",
              "888         0       3  female   NaN  23.4500  female     3.0\n",
              "889         1       1    male  26.0  30.0000    male     1.0\n",
              "890         0       3    male  32.0   7.7500    male     3.0\n",
              "\n",
              "[891 rows x 7 columns]"
            ]
          },
          "metadata": {
            "tags": []
          },
          "execution_count": 63
        }
      ]
    },
    {
      "cell_type": "code",
      "metadata": {
        "id": "gBVA2CazJt6Z",
        "colab_type": "code",
        "colab": {},
        "outputId": "e34d094f-aff6-450c-eb2d-96c4b41a2238"
      },
      "source": [
        "sns.catplot(data=Titanic, x='pclass', y='age', hue='Gender', dodge=True)"
      ],
      "execution_count": 0,
      "outputs": [
        {
          "output_type": "execute_result",
          "data": {
            "text/plain": [
              "<seaborn.axisgrid.FacetGrid at 0x7f2917d2a7b8>"
            ]
          },
          "metadata": {
            "tags": []
          },
          "execution_count": 64
        },
        {
          "output_type": "display_data",
          "data": {
            "image/png": "[encoded data removed]",
            "text/plain": [
              "<Figure size 430.5x360 with 1 Axes>"
            ]
          },
          "metadata": {
            "tags": [],
            "needs_background": "light"
          }
        }
      ]
    },
    {
      "cell_type": "markdown",
      "metadata": {
        "id": "o52E0_rwJt6c",
        "colab_type": "text"
      },
      "source": [
        "### (4)"
      ]
    },
    {
      "cell_type": "code",
      "metadata": {
        "id": "6JEJsN8IJt6c",
        "colab_type": "code",
        "colab": {},
        "outputId": "a50c6c3a-f98c-40d3-a98a-ae2c2aa6a57c"
      },
      "source": [
        "grouped=Titanic.groupby('Pclass')\n",
        "grouped.mean()"
      ],
      "execution_count": 0,
      "outputs": [
        {
          "output_type": "execute_result",
          "data": {
            "text/html": [
              "<div>\n",
              "<style scoped>\n",
              "    .dataframe tbody tr th:only-of-type {\n",
              "        vertical-align: middle;\n",
              "    }\n",
              "\n",
              "    .dataframe tbody tr th {\n",
              "        vertical-align: top;\n",
              "    }\n",
              "\n",
              "    .dataframe thead th {\n",
              "        text-align: right;\n",
              "    }\n",
              "</style>\n",
              "<table border=\"1\" class=\"dataframe\">\n",
              "  <thead>\n",
              "    <tr style=\"text-align: right;\">\n",
              "      <th></th>\n",
              "      <th>survived</th>\n",
              "      <th>pclass</th>\n",
              "      <th>age</th>\n",
              "      <th>fare</th>\n",
              "    </tr>\n",
              "    <tr>\n",
              "      <th>Pclass</th>\n",
              "      <th></th>\n",
              "      <th></th>\n",
              "      <th></th>\n",
              "      <th></th>\n",
              "    </tr>\n",
              "  </thead>\n",
              "  <tbody>\n",
              "    <tr>\n",
              "      <td>0.0</td>\n",
              "      <td>0.735849</td>\n",
              "      <td>1.0</td>\n",
              "      <td>31.956667</td>\n",
              "      <td>187.032858</td>\n",
              "    </tr>\n",
              "    <tr>\n",
              "      <td>1.0</td>\n",
              "      <td>0.595092</td>\n",
              "      <td>1.0</td>\n",
              "      <td>40.416667</td>\n",
              "      <td>50.703503</td>\n",
              "    </tr>\n",
              "    <tr>\n",
              "      <td>2.0</td>\n",
              "      <td>0.472826</td>\n",
              "      <td>2.0</td>\n",
              "      <td>29.877630</td>\n",
              "      <td>20.662183</td>\n",
              "    </tr>\n",
              "    <tr>\n",
              "      <td>3.0</td>\n",
              "      <td>0.242363</td>\n",
              "      <td>3.0</td>\n",
              "      <td>25.140620</td>\n",
              "      <td>13.675550</td>\n",
              "    </tr>\n",
              "  </tbody>\n",
              "</table>\n",
              "</div>"
            ],
            "text/plain": [
              "        survived  pclass        age        fare\n",
              "Pclass                                         \n",
              "0.0     0.735849     1.0  31.956667  187.032858\n",
              "1.0     0.595092     1.0  40.416667   50.703503\n",
              "2.0     0.472826     2.0  29.877630   20.662183\n",
              "3.0     0.242363     3.0  25.140620   13.675550"
            ]
          },
          "metadata": {
            "tags": []
          },
          "execution_count": 65
        }
      ]
    },
    {
      "cell_type": "code",
      "metadata": {
        "id": "kyc0naUVJt6e",
        "colab_type": "code",
        "colab": {},
        "outputId": "c5a94ffa-b2a1-48c2-baa5-9026617bf6cc"
      },
      "source": [
        "grouped=Titanic.groupby('Gender')\n",
        "grouped.mean()"
      ],
      "execution_count": 0,
      "outputs": [
        {
          "output_type": "execute_result",
          "data": {
            "text/html": [
              "<div>\n",
              "<style scoped>\n",
              "    .dataframe tbody tr th:only-of-type {\n",
              "        vertical-align: middle;\n",
              "    }\n",
              "\n",
              "    .dataframe tbody tr th {\n",
              "        vertical-align: top;\n",
              "    }\n",
              "\n",
              "    .dataframe thead th {\n",
              "        text-align: right;\n",
              "    }\n",
              "</style>\n",
              "<table border=\"1\" class=\"dataframe\">\n",
              "  <thead>\n",
              "    <tr style=\"text-align: right;\">\n",
              "      <th></th>\n",
              "      <th>survived</th>\n",
              "      <th>pclass</th>\n",
              "      <th>age</th>\n",
              "      <th>fare</th>\n",
              "      <th>Pclass</th>\n",
              "    </tr>\n",
              "    <tr>\n",
              "      <th>Gender</th>\n",
              "      <th></th>\n",
              "      <th></th>\n",
              "      <th></th>\n",
              "      <th></th>\n",
              "      <th></th>\n",
              "    </tr>\n",
              "  </thead>\n",
              "  <tbody>\n",
              "    <tr>\n",
              "      <td>child</td>\n",
              "      <td>0.590361</td>\n",
              "      <td>2.626506</td>\n",
              "      <td>6.369518</td>\n",
              "      <td>32.785795</td>\n",
              "      <td>2.566265</td>\n",
              "    </tr>\n",
              "    <tr>\n",
              "      <td>female</td>\n",
              "      <td>0.756458</td>\n",
              "      <td>2.084871</td>\n",
              "      <td>32.000000</td>\n",
              "      <td>46.570711</td>\n",
              "      <td>1.970480</td>\n",
              "    </tr>\n",
              "    <tr>\n",
              "      <td>male</td>\n",
              "      <td>0.163873</td>\n",
              "      <td>2.372439</td>\n",
              "      <td>33.173123</td>\n",
              "      <td>24.864182</td>\n",
              "      <td>2.340782</td>\n",
              "    </tr>\n",
              "  </tbody>\n",
              "</table>\n",
              "</div>"
            ],
            "text/plain": [
              "        survived    pclass        age       fare    Pclass\n",
              "Gender                                                    \n",
              "child   0.590361  2.626506   6.369518  32.785795  2.566265\n",
              "female  0.756458  2.084871  32.000000  46.570711  1.970480\n",
              "male    0.163873  2.372439  33.173123  24.864182  2.340782"
            ]
          },
          "metadata": {
            "tags": []
          },
          "execution_count": 66
        }
      ]
    },
    {
      "cell_type": "markdown",
      "metadata": {
        "id": "h9igb-8dJt6g",
        "colab_type": "text"
      },
      "source": [
        "### (5)"
      ]
    },
    {
      "cell_type": "code",
      "metadata": {
        "id": "dFLPWjkdJt6g",
        "colab_type": "code",
        "colab": {},
        "outputId": "a0081211-79c5-4352-b872-f765c506eb3b"
      },
      "source": [
        "sns.catplot(data=Titanic, kind='strip', x='pclass', y='age', hue='survived', col='Gender', dodge=True)"
      ],
      "execution_count": 0,
      "outputs": [
        {
          "output_type": "execute_result",
          "data": {
            "text/plain": [
              "<seaborn.axisgrid.FacetGrid at 0x7f292003a940>"
            ]
          },
          "metadata": {
            "tags": []
          },
          "execution_count": 67
        },
        {
          "output_type": "display_data",
          "data": {
            "image/png": "[encoded data removed]",
            "text/plain": [
              "<Figure size 1130.88x360 with 3 Axes>"
            ]
          },
          "metadata": {
            "tags": [],
            "needs_background": "light"
          }
        }
      ]
    },
    {
      "cell_type": "code",
      "metadata": {
        "id": "DJkRoWbbJt6l",
        "colab_type": "code",
        "colab": {},
        "outputId": "275d1f46-c4eb-43c4-f05d-b63a1a850d1a"
      },
      "source": [
        "sns.catplot(data=Titanic, kind='strip', x='Pclass', y='age', hue='survived', col='Gender', dodge=True)"
      ],
      "execution_count": 0,
      "outputs": [
        {
          "output_type": "execute_result",
          "data": {
            "text/plain": [
              "<seaborn.axisgrid.FacetGrid at 0x7f2917aadbe0>"
            ]
          },
          "metadata": {
            "tags": []
          },
          "execution_count": 68
        },
        {
          "output_type": "display_data",
          "data": {
            "image/png": "[encoded data removed]",
            "text/plain": [
              "<Figure size 1130.88x360 with 3 Axes>"
            ]
          },
          "metadata": {
            "tags": [],
            "needs_background": "light"
          }
        }
      ]
    }
  ]
}