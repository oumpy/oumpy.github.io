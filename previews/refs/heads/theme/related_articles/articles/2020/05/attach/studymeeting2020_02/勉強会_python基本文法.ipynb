{
  "nbformat": 4,
  "nbformat_minor": 0,
  "metadata": {
    "colab": {
      "name": "勉強会_python基本文法.ipynb",
      "provenance": [],
      "toc_visible": true
    },
    "kernelspec": {
      "name": "python3",
      "display_name": "Python 3"
    }
  },
  "cells": [
    {
      "cell_type": "markdown",
      "metadata": {
        "id": "v-4hpdx-HA0h",
        "colab_type": "text"
      },
      "source": [
        " **Python入門（基本文法）**"
      ]
    },
    {
      "cell_type": "markdown",
      "metadata": {
        "id": "wIoaCtEMHHja",
        "colab_type": "text"
      },
      "source": [
        "動かし方：[　]の中の再生ボタンを押すとそのセルが実行　　セルをクリックして編集"
      ]
    },
    {
      "cell_type": "markdown",
      "metadata": {
        "id": "_BJyRPzOHoj8",
        "colab_type": "text"
      },
      "source": [
        "# メニュー"
      ]
    },
    {
      "cell_type": "markdown",
      "metadata": {
        "id": "s_rDp63QIZ4B",
        "colab_type": "text"
      },
      "source": [
        "\n",
        "*   四則演算と型\n",
        "*   条件分岐if\n",
        "*   リスト\n",
        "*   繰り返しfor、while\n",
        "*   実践\n",
        "\n"
      ]
    },
    {
      "cell_type": "markdown",
      "metadata": {
        "id": "Nq7H2EzeJv97",
        "colab_type": "text"
      },
      "source": [
        "# 四則演算と型"
      ]
    },
    {
      "cell_type": "code",
      "metadata": {
        "id": "hEm4n57CG7ls",
        "colab_type": "code",
        "colab": {}
      },
      "source": [
        "-2+3"
      ],
      "execution_count": 0,
      "outputs": []
    },
    {
      "cell_type": "code",
      "metadata": {
        "id": "YXnIc9DgJ0qQ",
        "colab_type": "code",
        "colab": {}
      },
      "source": [
        "3*4"
      ],
      "execution_count": 0,
      "outputs": []
    },
    {
      "cell_type": "code",
      "metadata": {
        "id": "V4ZEmEp0J0vf",
        "colab_type": "code",
        "colab": {}
      },
      "source": [
        "4/5"
      ],
      "execution_count": 0,
      "outputs": []
    },
    {
      "cell_type": "code",
      "metadata": {
        "id": "qqTl0-3LKQIH",
        "colab_type": "code",
        "colab": {}
      },
      "source": [
        "#このセルをクリック→下に適当な式を書いて実行してみよう\n",
        "7/3\n"
      ],
      "execution_count": 0,
      "outputs": []
    },
    {
      "cell_type": "markdown",
      "metadata": {
        "id": "tgxiQs0uLO7-",
        "colab_type": "text"
      },
      "source": [
        "簡単な計算はそのまま答えが出力されるが、ふつうはprint(出力したい内容)とする"
      ]
    },
    {
      "cell_type": "code",
      "metadata": {
        "id": "daMwYbMYKyK_",
        "colab_type": "code",
        "colab": {}
      },
      "source": [
        "#指数\n",
        "print(2**3)\n",
        "print(10**9+7)\n",
        "\n",
        "#nで割ったあまり\n",
        "print(5%3)\n",
        "print(7%3)\n",
        "\n",
        "#切り捨て割り算\n",
        "print(7//2)"
      ],
      "execution_count": 0,
      "outputs": []
    },
    {
      "cell_type": "code",
      "metadata": {
        "id": "JwmkanuFRI9O",
        "colab_type": "code",
        "colab": {}
      },
      "source": [
        "#変数を使うと便利\n",
        "\n",
        "#xに3を代入\n",
        "x=3\n",
        "print(x)\n",
        "print(x+10,x*20,x**30)\n",
        "\n",
        "#xの値を更新（xにx+1を再代入）\n",
        "x = x+1\n",
        "print(x)\n",
        "#これは省略して以下のようにかける\n",
        "x+=1"
      ],
      "execution_count": 0,
      "outputs": []
    },
    {
      "cell_type": "markdown",
      "metadata": {
        "id": "gYoQz7OoLn02",
        "colab_type": "text"
      },
      "source": [
        "pythonで扱う値には、「型」がある\n",
        "\n",
        "とりあえず今回はint(整数),float(小数),string(文字列)について説明"
      ]
    },
    {
      "cell_type": "markdown",
      "metadata": {
        "id": "z-TdbfDPM9OD",
        "colab_type": "text"
      },
      "source": [
        "・計算で扱えるのはintやfloat\n",
        "\n",
        "・stringは、' 'か\" \"で囲まれた文字列\n",
        "\n",
        "　例：'あいうえお'、'1.23'\n",
        "\n",
        "\n",
        "・変数にはどちらも代入できる"
      ]
    },
    {
      "cell_type": "code",
      "metadata": {
        "id": "5WR18JKSOD1G",
        "colab_type": "code",
        "colab": {}
      },
      "source": [
        "'''\n",
        "重要！！！！！！！！！！！\n",
        "\"1\"　と　1　は異なる\n",
        "\n",
        "上は数字の１と２であるが、\n",
        "下は「１」「２」という文字である\n",
        "'''\n",
        "\n",
        "print(1+2)\n",
        "print(\"1\"+\"2\")\n"
      ],
      "execution_count": 0,
      "outputs": []
    },
    {
      "cell_type": "code",
      "metadata": {
        "id": "N4_rYZO_OyR4",
        "colab_type": "code",
        "colab": {}
      },
      "source": [
        "#↑のようにpythonではstring同士の足し算が可能\n",
        "print('あいう'+'えお')\n",
        "\n",
        "#しかし文字を''で囲まずにprintするとエラー\n",
        "print(あいうえお)"
      ],
      "execution_count": 0,
      "outputs": []
    },
    {
      "cell_type": "code",
      "metadata": {
        "id": "wsdxBVocQel9",
        "colab_type": "code",
        "colab": {}
      },
      "source": [
        "#「Hello,World!」という文字列を出力してみよう\n",
        "print('Hello,World!')\n"
      ],
      "execution_count": 0,
      "outputs": []
    },
    {
      "cell_type": "code",
      "metadata": {
        "id": "j1mUxcbmLmNC",
        "colab_type": "code",
        "colab": {}
      },
      "source": [
        "#tips:割り算に注意\n",
        "\n",
        "#割り算の答えは勝手にfloatになる\n",
        "print(6/2)\n",
        "\n",
        "#防止するには\n",
        "print(6//2)\n",
        "\n",
        "#あるいは\n",
        "print(int(6/2))"
      ],
      "execution_count": 0,
      "outputs": []
    },
    {
      "cell_type": "markdown",
      "metadata": {
        "id": "pLwBpdsRQtZQ",
        "colab_type": "text"
      },
      "source": [
        "# 条件分岐if"
      ]
    },
    {
      "cell_type": "code",
      "metadata": {
        "id": "ptFkHKZdSLoG",
        "colab_type": "code",
        "colab": {}
      },
      "source": [
        "x=500\n",
        "\n",
        "if x>1000:\n",
        "  print('でかい')\n",
        "\n",
        "elif x>=500:\n",
        "  print('そこそこ')\n",
        "\n",
        "else:\n",
        "  print('ちいさい')"
      ],
      "execution_count": 0,
      "outputs": []
    },
    {
      "cell_type": "code",
      "metadata": {
        "id": "sTfGa8BeS93t",
        "colab_type": "code",
        "colab": {}
      },
      "source": [
        "y=500\n",
        "\n",
        "if x==y:\n",
        "  print('same')\n",
        "else:\n",
        "  print('no')\n",
        "\n",
        "print(x!=y)\n",
        "\n",
        "#「同じかどうか」の判定には==を使う、否定の場合は!="
      ],
      "execution_count": 0,
      "outputs": []
    },
    {
      "cell_type": "code",
      "metadata": {
        "id": "3Y9AO00BBalf",
        "colab_type": "code",
        "colab": {}
      },
      "source": [
        "#nが偶数なら２で割って、奇数ならそのまま出力するコードを書こう\n",
        "n=12345\n",
        "if n%2==0:\n",
        "  print(n//2)\n",
        "else:\n",
        "  print(n)\n",
        "\n",
        "print(n if n%2==1 else n//2)"
      ],
      "execution_count": 0,
      "outputs": []
    },
    {
      "cell_type": "markdown",
      "metadata": {
        "id": "5jfnympWA4Gv",
        "colab_type": "text"
      },
      "source": [
        "# リスト"
      ]
    },
    {
      "cell_type": "markdown",
      "metadata": {
        "id": "9e0TDOVEC5Wn",
        "colab_type": "text"
      },
      "source": [
        "値を複数格納できるリスト型がある"
      ]
    },
    {
      "cell_type": "code",
      "metadata": {
        "id": "1muvMwLrBBVN",
        "colab_type": "code",
        "colab": {}
      },
      "source": [
        "lstr=['a','b','c']\n",
        "lint=[1,1,2,3,5,8]"
      ],
      "execution_count": 0,
      "outputs": []
    },
    {
      "cell_type": "code",
      "metadata": {
        "id": "PSTPkW1gDPiX",
        "colab_type": "code",
        "colab": {}
      },
      "source": [
        "#長さの取得\n",
        "print(len(lint))\n",
        "\n",
        "#要素へのアクセス\n",
        "#pythonでは、前から0,1,2番目..と数える\n",
        "print(lstr[1])\n",
        "\n",
        "if lint[3]+lint[4]==lint[5]:\n",
        "  print('fivo')"
      ],
      "execution_count": 0,
      "outputs": []
    },
    {
      "cell_type": "code",
      "metadata": {
        "id": "ZeqitpvVEAP6",
        "colab_type": "code",
        "colab": {}
      },
      "source": [
        "#要素の書き換え\n",
        "lint[2]+=100\n",
        "print(lint)\n",
        "\n",
        "#要素の追加\n",
        "lstr.append('d')\n",
        "print(lstr)\n",
        "\n",
        "#strのlist化\n",
        "st='あいうえお'\n",
        "lstr2=list(st)\n",
        "print(lstr2)"
      ],
      "execution_count": 0,
      "outputs": []
    },
    {
      "cell_type": "code",
      "metadata": {
        "id": "zsta4beSIV9k",
        "colab_type": "code",
        "colab": {}
      },
      "source": [
        "#スライス\n",
        "#[左端:右端+1:何個飛ばし]でリストの一部を切り出せる\n",
        "print(lstr2[1:4])"
      ],
      "execution_count": 0,
      "outputs": []
    },
    {
      "cell_type": "code",
      "metadata": {
        "id": "6HA-xkwDd2w_",
        "colab_type": "code",
        "colab": {}
      },
      "source": [
        "#ソート\n",
        "rand=[3,6,1,5,2,8,10,9,7,4]\n",
        "rand.sort()\n",
        "print(rand)"
      ],
      "execution_count": 0,
      "outputs": []
    },
    {
      "cell_type": "code",
      "metadata": {
        "id": "bHti9zTpykLz",
        "colab_type": "code",
        "colab": {}
      },
      "source": [
        "#tips:リストの反転\n",
        "#list[::-1]\n",
        "print(lstr2[::-1])"
      ],
      "execution_count": 0,
      "outputs": []
    },
    {
      "cell_type": "code",
      "metadata": {
        "id": "XCTDhPaIEx2n",
        "colab_type": "code",
        "colab": {}
      },
      "source": [
        "#tips:整数のリストはrangeで作れる\n",
        "#range(スタート,ゴール+1,何個飛ばし)\n",
        "lnum=list(range(1,15,2))\n",
        "print(lnum)\n",
        "\n",
        "#スタート、何個飛ばしは省略可\n",
        "lnum2=list(range(5))\n",
        "print(lnum2)"
      ],
      "execution_count": 0,
      "outputs": []
    },
    {
      "cell_type": "markdown",
      "metadata": {
        "id": "K3N2CFMQA4yy",
        "colab_type": "text"
      },
      "source": [
        "# 繰り返しfor、while"
      ]
    },
    {
      "cell_type": "code",
      "metadata": {
        "id": "zVIrUJlIBBz6",
        "colab_type": "code",
        "colab": {}
      },
      "source": [
        "for i in range(1,10):\n",
        "  if i%2==0:\n",
        "    print(i)\n",
        "\n",
        "#変数iにリストの中身を一つずつ代入してその都度下のコードを実行している"
      ],
      "execution_count": 0,
      "outputs": []
    },
    {
      "cell_type": "code",
      "metadata": {
        "id": "dJ9H3zyiGTW8",
        "colab_type": "code",
        "colab": {}
      },
      "source": [
        "su=0\n",
        "fact=1\n",
        "for j in range(1,20):\n",
        "  su=su+j\n",
        "  fact=fact*j\n",
        "print(su,fact)"
      ],
      "execution_count": 0,
      "outputs": []
    },
    {
      "cell_type": "code",
      "metadata": {
        "id": "3DEtaGSWG0oO",
        "colab_type": "code",
        "colab": {}
      },
      "source": [
        "lisuto=['x','y','z']\n",
        "s=''\n",
        "for i in lisuto:\n",
        "  s+=i\n",
        "print(s)"
      ],
      "execution_count": 0,
      "outputs": []
    },
    {
      "cell_type": "code",
      "metadata": {
        "id": "EVifJRgbHWVO",
        "colab_type": "code",
        "colab": {}
      },
      "source": [
        "#ある動作をn回やりたいときに重宝\n",
        "\n",
        "for i in range(100):\n",
        "  print('WOW!')"
      ],
      "execution_count": 0,
      "outputs": []
    },
    {
      "cell_type": "code",
      "metadata": {
        "id": "E9wslT64Hsz_",
        "colab_type": "code",
        "colab": {}
      },
      "source": [
        "#条件を満たしている間繰り返し続ける while もある（やや危険）\n",
        "n=100\n",
        "while n>0:\n",
        "  n-=1\n",
        "  print(n)\n",
        "\n",
        "x=10\n",
        "while True:\n",
        "  print('a')\n",
        "  x-=1\n",
        "  if x<0:\n",
        "    break"
      ],
      "execution_count": 0,
      "outputs": []
    },
    {
      "cell_type": "markdown",
      "metadata": {
        "id": "MnyXJyqMJGjz",
        "colab_type": "text"
      },
      "source": [
        "# 実践"
      ]
    },
    {
      "cell_type": "markdown",
      "metadata": {
        "id": "Ed4-WnhKJMYB",
        "colab_type": "text"
      },
      "source": [
        "FizzBuzz問題を実装してみよう\n",
        "\n",
        "\n",
        "> 1から自然数を出力していくが、<br>\n",
        "> 3の倍数の時は'Fizz'<br>\n",
        "> 5の倍数の時は'Buzz'<br>\n",
        "> 両方の倍数の時は'FizzBuzz'を代わりに出力する\n",
        "\n"
      ]
    },
    {
      "cell_type": "markdown",
      "metadata": {
        "id": "s-FT0LK7KTCB",
        "colab_type": "text"
      },
      "source": [
        "課題①：1~20までのfizzbuzzを書いてみよう"
      ]
    },
    {
      "cell_type": "code",
      "metadata": {
        "id": "JHTM6p6-JKcv",
        "colab_type": "code",
        "colab": {}
      },
      "source": [
        "for i in range(1,21):\n",
        "  if i%3==0 and i%5==0:\n",
        "    print('FizzBuzz')\n",
        "  elif i%3==0:\n",
        "    print('Fizz')\n",
        "  elif i%5==0:\n",
        "    print('Buzz')\n",
        "  else:\n",
        "    print(i)"
      ],
      "execution_count": 0,
      "outputs": []
    },
    {
      "cell_type": "markdown",
      "metadata": {
        "id": "iJhZzSGdKZtD",
        "colab_type": "text"
      },
      "source": [
        "課題②：FizzBuzzが１０回出たら止まるコードをwhileを使って書こう"
      ]
    },
    {
      "cell_type": "code",
      "metadata": {
        "id": "BT6SdZDoKZ2D",
        "colab_type": "code",
        "colab": {}
      },
      "source": [
        "c=0\n",
        "i=1\n",
        "while c<10:\n",
        "  i+=1\n",
        "  if i%3==0 and i%5==0:\n",
        "    print('FizzBuzz')\n",
        "    c=c+1\n",
        "  elif i%3==0:\n",
        "    print('Fizz')\n",
        "  elif i%5==0:\n",
        "    print('Buzz')\n",
        "  else:\n",
        "    print(i)"
      ],
      "execution_count": 0,
      "outputs": []
    },
    {
      "cell_type": "markdown",
      "metadata": {
        "id": "Pl1Hh-emKZ8U",
        "colab_type": "text"
      },
      "source": [
        "課題③：1~100までのfizzbuzzを格納したリストを作ろう"
      ]
    },
    {
      "cell_type": "code",
      "metadata": {
        "id": "QG7MdgKKKaBw",
        "colab_type": "code",
        "colab": {}
      },
      "source": [
        "l=[]\n",
        "for i in range(1,101):\n",
        "  if i%3==0 and i%5==0:\n",
        "    l.append('FizzBuzz')\n",
        "  elif i%3==0:\n",
        "    l.append('Fizz')\n",
        "  elif i%5==0:\n",
        "    l.append('Buzz')\n",
        "  else:\n",
        "    l.append(i)\n",
        "print(l)"
      ],
      "execution_count": 0,
      "outputs": []
    },
    {
      "cell_type": "markdown",
      "metadata": {
        "id": "Rm1G7i5TbvuL",
        "colab_type": "text"
      },
      "source": [
        "#このあと\n",
        "\n"
      ]
    },
    {
      "cell_type": "markdown",
      "metadata": {
        "id": "9G2ro9mlcBd9",
        "colab_type": "text"
      },
      "source": [
        "Pythonには、まだまだたくさんの機能があります\n",
        "* 辞書型\n",
        "* 関数の定義\n",
        "* クラス\n",
        "* ライブラリ\n",
        "\n",
        "etc...\n",
        "\n",
        "ここからは、各自の興味のある分野で必要な知識をつけていくことになります。\n",
        "\n",
        "さまざまな分野の勉強会がこれ以降開催されるので、ぜひ参加してやりたいことを見つけてください。\n",
        "\n"
      ]
    }
  ]
}